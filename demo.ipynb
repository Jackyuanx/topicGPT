{
 "cells": [
  {
   "cell_type": "code",
   "execution_count": null,
   "metadata": {},
   "outputs": [],
   "source": [
    "# TopicGPT_Python package\n",
    "\n",
    "`topicgpt_python` consists of five modules in total: \n",
    "- `generate_topic_lvl1` generates high-level and generalizable topics. \n",
    "- `generate_topic_lvl2` generates low-level and specific topics to each high-level topic.\n",
    "- `refine_topics` refines the generated topics by merging similar topics and removing irrelevant topics.\n",
    "- `assign_topics` assigns the generated topics to the input text, along with a quote that supports the assignment.\n",
    "- `correct_topics` corrects the generated topics by reprompting the model so that the topic assignment is grounded in the topic list. \n",
    "\n",
    "![topicgpt_python](assets/img/pipeline.png)"
   ]
  },
  {
   "cell_type": "markdown",
   "metadata": {},
   "source": [
    "## Setup\n",
    "1. Make a new Python 3.9+ environment using virtualenv or conda. \n",
    "2. Install the required packages: `pip install --upgrade topicgpt_python`.\n",
    "- Our package supports OpenAI API, Google Cloud Vertex AI API, Gemini API, Azure API, and vLLM inference. vLLM requires GPUs to run. \n",
    "- Please refer to https://openai.com/pricing/ for OpenAI API pricing or to https://cloud.google.com/vertex-ai/pricing for Vertex API pricing. "
   ]
  },
  {
   "cell_type": "code",
   "execution_count": 8,
   "metadata": {
    "vscode": {
     "languageId": "shellscript"
    }
   },
   "outputs": [],
   "source": []
  },
  {
   "cell_type": "markdown",
   "metadata": {},
   "source": [
    "## Usage\n",
    "1. First, define the necessary file paths for I/O operations in `config.yml`. \n",
    "2. Then, import the necessary modules and functions from `topicgpt_python`.\n",
    "3. Store your data in `data/input` and modify the `data_sample` path in `config.yml`. \n",
    "\n",
    "- Prepare your `.jsonl` data file in the following format:\n",
    "    ```\n",
    "    {\n",
    "        \"id\": \"IDs (optional)\",\n",
    "        \"text\": \"Documents\",\n",
    "        \"label\": \"Ground-truth labels (optional)\"\n",
    "    }\n",
    "    ```"
   ]
  },
  {
   "cell_type": "code",
   "execution_count": 9,
   "metadata": {},
   "outputs": [],
   "source": [
    "import os\n",
    "import sys\n",
    "folder_path = os.path.abspath(\"topicgpt_python\")\n",
    "\n",
    "# Add the folder to sys.path\n",
    "sys.path.append(folder_path)\n",
    "\n",
    "# Import modules directly\n",
    "from data_sample import sample_data\n",
    "from generation_1 import generate_topic_lvl1\n",
    "from generation_2 import generate_topic_lvl2\n",
    "from refinement import refine_topics\n",
    "from assignment import assign_topics\n",
    "from correction import correct_topics\n",
    "from comparison import comparison\n",
    "from baseline import baseline\n",
    "from evaluate import evaluate\n",
    "import yaml\n",
    "\n",
    "with open(\"config.yml\", \"r\") as f:\n",
    "    config = yaml.safe_load(f)"
   ]
  },
  {
   "cell_type": "code",
   "execution_count": 10,
   "metadata": {},
   "outputs": [
    {
     "name": "stdout",
     "output_type": "stream",
     "text": [
      "-------------------\n",
      "Initializing topic generation...\n",
      "Model: gpt-4o\n",
      "Data file: true_inputs/run.jsonl\n",
      "Prompt file: prompt/generation_1.txt\n",
      "Seed file: prompt/seed_1.md\n",
      "Output file: true_outputs/1/generation_1.jsonl\n",
      "Topic file: true_outputs/1/generation_1.md\n",
      "-------------------\n"
     ]
    },
    {
     "name": "stderr",
     "output_type": "stream",
     "text": [
      " 50%|█████     | 1/2 [00:01<00:01,  1.62s/it]"
     ]
    },
    {
     "name": "stdout",
     "output_type": "stream",
     "text": [
      "Prompt token usage: 949 ~$0.004745\n",
      "Response token usage: 45 ~$0.000675\n",
      "Topics: [1] Urban and Regional Planning: Involves the development and design of land use and the built environment, including the infrastructure passing into and out of urban areas, such as transportation, communications, and distribution networks.\n",
      "--------------------\n"
     ]
    },
    {
     "name": "stderr",
     "output_type": "stream",
     "text": [
      "100%|██████████| 2/2 [00:03<00:00,  1.68s/it]"
     ]
    },
    {
     "name": "stdout",
     "output_type": "stream",
     "text": [
      "Prompt token usage: 937 ~$0.004685\n",
      "Response token usage: 45 ~$0.000675\n",
      "Topics: [1] Urban and Regional Planning: Involves the development and design of land use and the built environment, including the infrastructure passing into and out of urban areas, such as transportation, communications, and distribution networks.\n",
      "--------------------\n"
     ]
    },
    {
     "name": "stderr",
     "output_type": "stream",
     "text": [
      "\n"
     ]
    },
    {
     "data": {
      "text/plain": [
       "<topicgpt_python.utils.TopicTree at 0x7f3ebcbcfd30>"
      ]
     },
     "execution_count": 10,
     "metadata": {},
     "output_type": "execute_result"
    }
   ],
   "source": [
    "\n",
    "generate_topic_lvl1(\n",
    "    \"openai\",\n",
    "    \"gpt-4o\",\n",
    "    config[\"data_sample\"],\n",
    "    config[\"generation\"][\"prompt\"],\n",
    "    config[\"generation\"][\"seed\"],\n",
    "    config[\"generation\"][\"output\"],\n",
    "    config[\"generation\"][\"topic_output\"],\n",
    "    verbose=config[\"verbose\"],\n",
    ")"
   ]
  },
  {
   "cell_type": "code",
   "execution_count": 11,
   "metadata": {},
   "outputs": [
    {
     "name": "stdout",
     "output_type": "stream",
     "text": [
      "-------------------\n",
      "Initializing topic generation (lvl 2)...\n",
      "Model: gpt-4o\n",
      "Data file: true_outputs/1/generation_1.jsonl\n",
      "Prompt file: prompt/generation_2.txt\n",
      "Seed file: true_outputs/1/generation_1.md\n",
      "Output file: true_outputs/1/generation_2.jsonl\n",
      "Topic file: true_outputs/1/generation_2.md\n",
      "-------------------\n",
      "Number of remaining documents for prompting: 2\n"
     ]
    },
    {
     "name": "stderr",
     "output_type": "stream",
     "text": [
      "  0%|          | 0/1 [00:00<?, ?it/s]"
     ]
    },
    {
     "name": "stdout",
     "output_type": "stream",
     "text": [
      "Current topic: [1] Urban and Regional Planning\n"
     ]
    },
    {
     "name": "stderr",
     "output_type": "stream",
     "text": [
      "100%|██████████| 1/1 [00:02<00:00,  2.30s/it]"
     ]
    },
    {
     "name": "stdout",
     "output_type": "stream",
     "text": [
      "Subtopics: [1] Urban and Regional Planning\n",
      "   [2] National Physical Planning (Document: 1, 2): Involves the development and implementation of national-level physical planning documents such as the National Physical Plan-3 (NPP-3), focusing on strategic and sectoral policies translated into spatial and physical dimensions.\n",
      "   [2] Urbanisation Policy (Document: 1, 2): Pertains to policies guiding sustainable urban planning and development, emphasizing balanced development across physical, environmental, social, and economic dimensions.\n",
      "   [2] Rural Development Planning (Document: 1, 2): Concerns the planning and implementation of strategies for rural development, as outlined in documents like the National Rural Physical Plan 2030 (NRPP 2030), focusing on spatial rural development and policy measures.\n",
      "Not a match: [2] National Physical Planning (Document: 1, 2): Involves the development and implementation of national-level physical planning documents such as the National Physical Plan-3 (NPP-3), focusing on strategic and sectoral policies translated into spatial and physical dimensions.\n",
      "Urbanisation Policy (Count: 0): Pertains to policies guiding sustainable urban planning and development, emphasizing balanced development across physical, environmental, social, and economic dimensions.\n",
      "Not a match: [2] Rural Development Planning (Document: 1, 2): Concerns the planning and implementation of strategies for rural development, as outlined in documents like the National Rural Physical Plan 2030 (NRPP 2030), focusing on spatial rural development and policy measures.\n",
      "--------------------------------------------------\n"
     ]
    },
    {
     "name": "stderr",
     "output_type": "stream",
     "text": [
      "\n"
     ]
    }
   ],
   "source": [
    "# Optional: Generate subtopics\n",
    "if config[\"generate_subtopics\"]:\n",
    "    generate_topic_lvl2(\n",
    "        \"openai\",\n",
    "        \"gpt-4o\",\n",
    "        config[\"generation\"][\"topic_output\"],\n",
    "        config[\"generation\"][\"output\"],\n",
    "        config[\"generation_2\"][\"prompt\"],\n",
    "        config[\"generation_2\"][\"output\"],\n",
    "        config[\"generation_2\"][\"topic_output\"],\n",
    "        verbose=config[\"verbose\"],\n",
    "    )"
   ]
  },
  {
   "cell_type": "code",
   "execution_count": 12,
   "metadata": {},
   "outputs": [
    {
     "name": "stdout",
     "output_type": "stream",
     "text": [
      "-------------------\n",
      "Initializing topic assignment...\n",
      "Model: gpt-4o-mini\n",
      "Data file: true_inputs/run.jsonl\n",
      "Prompt file: prompt/assignment.txt\n",
      "Output file: true_outputs/1/assignment_2.jsonl\n",
      "Topic file: true_outputs/1/generation_2.md\n",
      "-------------------\n"
     ]
    },
    {
     "name": "stderr",
     "output_type": "stream",
     "text": [
      " 50%|█████     | 1/2 [00:01<00:01,  1.65s/it]"
     ]
    },
    {
     "name": "stdout",
     "output_type": "stream",
     "text": [
      "Prompt token usage: 882 ~$0.00441\n",
      "Response token usage: 79 ~$0.0011849999999999999\n",
      "Response: [2] Urbanisation Policy: The document discusses the Second National Urbanisation Policy (NUP-2), which provides guidance on sustainable urban planning and development, emphasizing balanced development across physical, environmental, social, and economic dimensions. (Supporting quote: \"The NUP-2 provides guidance on sustainable urban planning and development with an emphasis for balanced development physically, environmentally, socially and economically.\")\n",
      "--------------------\n"
     ]
    },
    {
     "name": "stderr",
     "output_type": "stream",
     "text": [
      "100%|██████████| 2/2 [00:03<00:00,  1.60s/it]"
     ]
    },
    {
     "name": "stdout",
     "output_type": "stream",
     "text": [
      "Prompt token usage: 862 ~$0.0043100000000000005\n",
      "Response token usage: 81 ~$0.0012150000000000002\n",
      "Response: [2] Urbanisation Policy: The document discusses the Second National Urbanisation Policy (NUP2), which is specifically designed to guide and coordinate sustainable urban planning and development, emphasizing balanced development across various dimensions. The quote that supports this assignment is: \"The NUP2 is a policy to guide and coordinate sustainable urban planning and development with emphasis on balanced development physically, environmentally, socially and economically.\"\n",
      "--------------------\n"
     ]
    },
    {
     "name": "stderr",
     "output_type": "stream",
     "text": [
      "\n"
     ]
    }
   ],
   "source": [
    "# Assignment\n",
    "assign_topics(\n",
    "    \"openai\",\n",
    "    \"gpt-4o-mini\",\n",
    "    config[\"data_sample\"],\n",
    "    config[\"assignment\"][\"prompt\"],\n",
    "    config[\"assignment\"][\"output\"],\n",
    "    config[\"generation_2\"][\n",
    "        \"topic_output\"\n",
    "    ],  # TODO: change to generation_2 if you have subtopics, or config['refinement']['topic_output'] if you refined topics\n",
    "    verbose=config[\"verbose\"],\n",
    ")"
   ]
  },
  {
   "cell_type": "code",
   "execution_count": 13,
   "metadata": {},
   "outputs": [
    {
     "name": "stdout",
     "output_type": "stream",
     "text": [
      "Final prompt sent to API Agent:\n",
      "As a climate scientist and specialized Q&A bot with expertise in climate change, climate science, environmental science, physics, and energy science, your primary objective is: \n",
      "1. Provide an accurate and comprehensive comparison from the two documents inputted by the user.  \n",
      "2. Provide detailed discussions on both similarities of the points, and differences, additionally discuss when only one topic appears in one document only \n",
      "3. In cases where sufficient information is lacking to address the comparison, reply with ’There is not enough info to answer the question.’ \n",
      "4. It’s imperative to maintain accuracy and refrain from creating information. If any aspect is unclear, do not create answers about that aspect.\n",
      "\n",
      "[Instructions]\n",
      "Here is two documents, as well as key discussion points, provide a comparison:\n",
      "\n",
      "[Document]\n",
      "Document 1:\n",
      "Text: ,For the period until 2020, national physical development in Peninsular Malaysia is guided by three physical planning documents, the National Physical Plan-3 (NPP-3), the Second National Urbanisation Policy (NUP-2) and the National Rural Physical Plan 2030 (NRPP 2030). Due to constitutional arrangements, the states of Sabah and Sarawak have autonomy in the development control process and are governed by separate planning systems. Thus, NPP-3, NUP-2 and NRPP 2030 only applies to Peninsular Malaysia.,The NPP-3 is the highest-ranking planning document in the national development framework which translates strategic and sectoral policies into spatial and physical dimensions. Emphasis is placed on sustainability and resilience towards climate change in three strategic directions:,a)\tSustainable management of natural, food and heritage resources;,b)\tHolistic land use planning; and,c)\tLow carbon cities and sustainable infrastructure.,The three strategic directions are being implemented through 15 strategies and 44 actions. The 15 strategies are:,a)\tImproving preservation and conservation of national ecological assets;,b)\tManaging and controlling development in environmentally sensitive areas;,c)\tEnhancing security and sustainability of water resources;,d)\tManaging mineral resource exploration;,e)\tPromoting food security;,f)\tStrengthening protection and preservation of national archaeological and natural heritage sites;,g)\tOptimising land use and availability;,h)\tManaging natural disaster risk areas;,i)\tManaging development growth and sprawl;,j)\tPromoting integrated rural development;,k)\tCreating low carbon cities development;,l)\tPromoting use of sustainable energy sources;,m)\tImplementing integrated water cycle management;,n)\tPromoting green mobility; and,o)\tStrengthening integrated and sustainable solid waste management.,The NUP-2 provides guidance on sustainable urban planning and development with an emphasis for balanced development physically, environmentally, socially and economically. The NRPP 2030 is the first spatial rural development document that,outlines policy statements, strategies and implementation measures towards materialising the rural development vision.,\n",
      "Topics: [2] Urbanisation Policy: The document discusses the Second National Urbanisation Policy (NUP-2), which provides guidance on sustainable urban planning and development, emphasizing balanced development across physical, environmental, social, and economic dimensions. (Supporting quote: \"The NUP-2 provides guidance on sustainable urban planning and development with an emphasis for balanced development physically, environmentally, socially and economically.\")\n",
      "\n",
      "Document 2:\n",
      "Text: National physical development in Peninsular Malaysia is guided by the three current physical planning documents, the National Physical Plan-3 (NPP-3), the Second National Urbanisation Policy (NUP2) and the National Rural Physical Plan 2030 (NRPP 2030). These documents were approved for implementation in 2017. Due to constitutional arrangements, the development control process in the states of Sabah and Sarawak is governed by separate planning systems. The NPP-3 and NUP2 are shared administratively with the state of Sabah.,The NPP-3 is the highest ranking planning document in the national development framework which translates the strategic and sectoral policies into spatial and physical dimensions. In the document, emphasis is placed on sustainability and resilience towards climate change through three strategic directions namely,,(i)\tSustainable management of natural, food and heritage resources;,(ii)\tHolistic land use planning; and,(iii)\tLow carbon cities and sustainable infrastructure.,The three strategic directions will be implemented through 15 strategies and 44 actions. The 15 strategies consist of the following: improving preservation and conservation of national ecological assets; managing and controlling development in environmentally sensitive areas; enhancing security and sustainability of water resources; managing mineral resource exploration; promoting food security; strengthening protection and preservation of national archaeological and natural heritage sites; optimising land use and availability; managing natural disaster risk areas; managing development growth and sprawl; promoting integrated rural development; creating low carbon cities development; promoting use of sustainable energy sources; implementing integrated water cycle management; promoting green mobility; and strengthening integrated and sustainable solid waste management. These strategies will help to enhance,adaptation to, and mitigation of climate change in the country.,The NUP2 is a policy to guide and coordinate sustainable urban planning and development with emphasis on balanced development physically, environmentally, socially and economically. The NRPP 2030 is the nation’s first spatial rural development document that outlines policy statements, strategies and implementation measures according to specific themes and thrusts towards materialising the rural development vision.,\n",
      "Topics: [2] Urbanisation Policy: The document discusses the Second National Urbanisation Policy (NUP2), which is specifically designed to guide and coordinate sustainable urban planning and development, emphasizing balanced development across various dimensions. The quote that supports this assignment is: \"The NUP2 is a policy to guide and coordinate sustainable urban planning and development with emphasis on balanced development physically, environmentally, socially and economically.\"\n",
      "\n",
      "Your response:\n",
      "\n",
      "Prompt token usage: 1199 ~$0.005995\n",
      "Response token usage: 541 ~$0.008115\n",
      "Generated Comparison:\n",
      "**Comparison of Document 1 and Document 2:**\n",
      "\n",
      "**Similarities:**\n",
      "\n",
      "1. **Guiding Documents:**\n",
      "   - Both documents mention the same three guiding documents for national physical development in Peninsular Malaysia: the National Physical Plan-3 (NPP-3), the Second National Urbanisation Policy (NUP-2), and the National Rural Physical Plan 2030 (NRPP 2030).\n",
      "\n",
      "2. **Geographical Scope:**\n",
      "   - Both documents note that due to constitutional arrangements, the states of Sabah and Sarawak have separate planning systems, and the mentioned plans primarily apply to Peninsular Malaysia.\n",
      "\n",
      "3. **NPP-3 Strategic Directions:**\n",
      "   - Both documents emphasize the NPP-3's focus on sustainability and resilience towards climate change through three strategic directions: sustainable management of natural, food, and heritage resources; holistic land use planning; and low carbon cities and sustainable infrastructure.\n",
      "\n",
      "4. **Implementation Strategies:**\n",
      "   - Both documents list the same 15 strategies and 44 actions to implement the strategic directions of the NPP-3. These strategies include improving preservation and conservation of national ecological assets, managing development in environmentally sensitive areas, promoting food security, and creating low carbon cities, among others.\n",
      "\n",
      "5. **NUP-2 Focus:**\n",
      "   - Both documents describe the NUP-2 as providing guidance on sustainable urban planning and development, emphasizing balanced development across physical, environmental, social, and economic dimensions.\n",
      "\n",
      "6. **NRPP 2030:**\n",
      "   - Both documents mention the NRPP 2030 as the first spatial rural development document outlining policy statements, strategies, and implementation measures towards materializing the rural development vision.\n",
      "\n",
      "**Differences:**\n",
      "\n",
      "1. **Administrative Sharing with Sabah:**\n",
      "   - Document 2 mentions that the NPP-3 and NUP2 are shared administratively with the state of Sabah, which is not mentioned in Document 1.\n",
      "\n",
      "2. **Approval Date:**\n",
      "   - Document 2 specifies that these documents were approved for implementation in 2017, a detail not provided in Document 1.\n",
      "\n",
      "**Unique Points:**\n",
      "\n",
      "- **Document 1:**\n",
      "  - Does not mention the administrative sharing of NPP-3 and NUP2 with Sabah.\n",
      "  - Does not specify the approval date of the documents.\n",
      "\n",
      "- **Document 2:**\n",
      "  - Includes the detail about the administrative sharing of NPP-3 and NUP2 with Sabah.\n",
      "  - Provides the approval date of the documents as 2017.\n",
      "\n",
      "Overall, both documents provide a consistent overview of the national physical development plans in Peninsular Malaysia, with minor differences in administrative details and approval dates.\n",
      "Comparison output saved to comparisons/1.jsonl\n"
     ]
    }
   ],
   "source": [
    "# Optional: Generate comparisons\n",
    "if config[\"generate_comparison\"]:\n",
    "    comparison(\n",
    "        \"openai\",\n",
    "        \"gpt-4o\",\n",
    "        config[\"assignment\"][\"output\"],\n",
    "        config[\"comparison\"][\"prompt\"],\n",
    "        config[\"comparison\"][\"output\"],\n",
    "    )"
   ]
  },
  {
   "cell_type": "code",
   "execution_count": 15,
   "metadata": {},
   "outputs": [
    {
     "name": "stdout",
     "output_type": "stream",
     "text": [
      "Final prompt sent to API Agent:\n",
      "[Instructions]\n",
      "Here are two documents. Provide a comparison:\n",
      "\n",
      "[Document]\n",
      "Document 1:\n",
      "Text: ,For the period until 2020, national physical development in Peninsular Malaysia is guided by three physical planning documents, the National Physical Plan-3 (NPP-3), the Second National Urbanisation Policy (NUP-2) and the National Rural Physical Plan 2030 (NRPP 2030). Due to constitutional arrangements, the states of Sabah and Sarawak have autonomy in the development control process and are governed by separate planning systems. Thus, NPP-3, NUP-2 and NRPP 2030 only applies to Peninsular Malaysia.,The NPP-3 is the highest-ranking planning document in the national development framework which translates strategic and sectoral policies into spatial and physical dimensions. Emphasis is placed on sustainability and resilience towards climate change in three strategic directions:,a)\tSustainable management of natural, food and heritage resources;,b)\tHolistic land use planning; and,c)\tLow carbon cities and sustainable infrastructure.,The three strategic directions are being implemented through 15 strategies and 44 actions. The 15 strategies are:,a)\tImproving preservation and conservation of national ecological assets;,b)\tManaging and controlling development in environmentally sensitive areas;,c)\tEnhancing security and sustainability of water resources;,d)\tManaging mineral resource exploration;,e)\tPromoting food security;,f)\tStrengthening protection and preservation of national archaeological and natural heritage sites;,g)\tOptimising land use and availability;,h)\tManaging natural disaster risk areas;,i)\tManaging development growth and sprawl;,j)\tPromoting integrated rural development;,k)\tCreating low carbon cities development;,l)\tPromoting use of sustainable energy sources;,m)\tImplementing integrated water cycle management;,n)\tPromoting green mobility; and,o)\tStrengthening integrated and sustainable solid waste management.,The NUP-2 provides guidance on sustainable urban planning and development with an emphasis for balanced development physically, environmentally, socially and economically. The NRPP 2030 is the first spatial rural development document that,outlines policy statements, strategies and implementation measures towards materialising the rural development vision.,\n",
      "\n",
      "\n",
      "Document 2:\n",
      "Text: National physical development in Peninsular Malaysia is guided by the three current physical planning documents, the National Physical Plan-3 (NPP-3), the Second National Urbanisation Policy (NUP2) and the National Rural Physical Plan 2030 (NRPP 2030). These documents were approved for implementation in 2017. Due to constitutional arrangements, the development control process in the states of Sabah and Sarawak is governed by separate planning systems. The NPP-3 and NUP2 are shared administratively with the state of Sabah.,The NPP-3 is the highest ranking planning document in the national development framework which translates the strategic and sectoral policies into spatial and physical dimensions. In the document, emphasis is placed on sustainability and resilience towards climate change through three strategic directions namely,,(i)\tSustainable management of natural, food and heritage resources;,(ii)\tHolistic land use planning; and,(iii)\tLow carbon cities and sustainable infrastructure.,The three strategic directions will be implemented through 15 strategies and 44 actions. The 15 strategies consist of the following: improving preservation and conservation of national ecological assets; managing and controlling development in environmentally sensitive areas; enhancing security and sustainability of water resources; managing mineral resource exploration; promoting food security; strengthening protection and preservation of national archaeological and natural heritage sites; optimising land use and availability; managing natural disaster risk areas; managing development growth and sprawl; promoting integrated rural development; creating low carbon cities development; promoting use of sustainable energy sources; implementing integrated water cycle management; promoting green mobility; and strengthening integrated and sustainable solid waste management. These strategies will help to enhance,adaptation to, and mitigation of climate change in the country.,The NUP2 is a policy to guide and coordinate sustainable urban planning and development with emphasis on balanced development physically, environmentally, socially and economically. The NRPP 2030 is the nation’s first spatial rural development document that outlines policy statements, strategies and implementation measures according to specific themes and thrusts towards materialising the rural development vision.,\n",
      "\n",
      "\n",
      "\n",
      "\n",
      "Your response:\n",
      "Prompt token usage: 897 ~$0.004485\n",
      "Response token usage: 485 ~$0.007275\n",
      "Generated Comparison:\n",
      "Both documents discuss the national physical development framework in Peninsular Malaysia, focusing on three key planning documents: the National Physical Plan-3 (NPP-3), the Second National Urbanisation Policy (NUP-2), and the National Rural Physical Plan 2030 (NRPP 2030). Here is a comparison of the two documents:\n",
      "\n",
      "1. **Scope and Application**:\n",
      "   - Both documents highlight that the NPP-3, NUP-2, and NRPP 2030 guide physical development in Peninsular Malaysia. They also note that due to constitutional arrangements, the states of Sabah and Sarawak have separate planning systems. However, Document 2 mentions that the NPP-3 and NUP-2 are shared administratively with the state of Sabah, which is not mentioned in Document 1.\n",
      "\n",
      "2. **Approval and Implementation**:\n",
      "   - Document 2 specifies that these planning documents were approved for implementation in 2017, a detail not provided in Document 1.\n",
      "\n",
      "3. **NPP-3 Strategic Directions and Strategies**:\n",
      "   - Both documents describe the NPP-3 as the highest-ranking planning document, emphasizing sustainability and resilience towards climate change through three strategic directions: sustainable management of resources, holistic land use planning, and low carbon cities and sustainable infrastructure.\n",
      "   - They both list the same 15 strategies to implement these directions, focusing on ecological conservation, resource management, disaster risk management, and sustainable development practices.\n",
      "\n",
      "4. **NUP-2 and NRPP 2030**:\n",
      "   - Both documents describe the NUP-2 as a guide for sustainable urban planning with an emphasis on balanced development across various dimensions (physical, environmental, social, and economic).\n",
      "   - The NRPP 2030 is described in both documents as the first spatial rural development document outlining policy statements, strategies, and implementation measures to achieve rural development goals. Document 2 adds that these are organized according to specific themes and thrusts.\n",
      "\n",
      "5. **Additional Details**:\n",
      "   - Document 2 includes a statement that the strategies will help enhance adaptation to and mitigation of climate change, which is not explicitly mentioned in Document 1.\n",
      "\n",
      "Overall, both documents provide a similar overview of the national physical development framework in Peninsular Malaysia, with Document 2 offering a few additional details regarding administrative sharing with Sabah, the approval year, and the climate change adaptation and mitigation focus.\n",
      "Comparison output saved to baseline/1.jsonl\n"
     ]
    }
   ],
   "source": [
    "baseline(\n",
    "    \"openai\",\n",
    "    \"gpt-4o\",\n",
    "    config[\"assignment\"][\"output\"],\n",
    "    config[\"baseline\"][\"prompt\"],\n",
    "    config[\"baseline\"][\"output\"],\n",
    ")"
   ]
  },
  {
   "cell_type": "code",
   "execution_count": 16,
   "metadata": {},
   "outputs": [
    {
     "name": "stdout",
     "output_type": "stream",
     "text": [
      "Final prompt sent to API Agent:\n",
      "You are an expert evaluator. Two comparisons are provided below, each generated following specific instructions. Your task is to evaluate them based on accuracy, comprehensiveness, clarity, and adherence to the guidelines provided in the comparison prompt.\n",
      "\n",
      "Comparison One:\n",
      "Comparison 1:\n",
      " **Comparison of Document 1 and Document 2:**\n",
      "\n",
      "**Similarities:**\n",
      "\n",
      "1. **Guiding Documents:**\n",
      "   - Both documents mention the same three guiding documents for national physical development in Peninsular Malaysia: the National Physical Plan-3 (NPP-3), the Second National Urbanisation Policy (NUP-2), and the National Rural Physical Plan 2030 (NRPP 2030).\n",
      "\n",
      "2. **Geographical Scope:**\n",
      "   - Both documents note that due to constitutional arrangements, the states of Sabah and Sarawak have separate planning systems, and the mentioned plans primarily apply to Peninsular Malaysia.\n",
      "\n",
      "3. **NPP-3 Strategic Directions:**\n",
      "   - Both documents emphasize the NPP-3's focus on sustainability and resilience towards climate change through three strategic directions: sustainable management of natural, food, and heritage resources; holistic land use planning; and low carbon cities and sustainable infrastructure.\n",
      "\n",
      "4. **Implementation Strategies:**\n",
      "   - Both documents list the same 15 strategies and 44 actions to implement the strategic directions of the NPP-3. These strategies include improving preservation and conservation of national ecological assets, managing development in environmentally sensitive areas, promoting food security, and creating low carbon cities, among others.\n",
      "\n",
      "5. **NUP-2 Focus:**\n",
      "   - Both documents describe the NUP-2 as providing guidance on sustainable urban planning and development, emphasizing balanced development across physical, environmental, social, and economic dimensions.\n",
      "\n",
      "6. **NRPP 2030:**\n",
      "   - Both documents mention the NRPP 2030 as the first spatial rural development document outlining policy statements, strategies, and implementation measures towards materializing the rural development vision.\n",
      "\n",
      "**Differences:**\n",
      "\n",
      "1. **Administrative Sharing with Sabah:**\n",
      "   - Document 2 mentions that the NPP-3 and NUP2 are shared administratively with the state of Sabah, which is not mentioned in Document 1.\n",
      "\n",
      "2. **Approval Date:**\n",
      "   - Document 2 specifies that these documents were approved for implementation in 2017, a detail not provided in Document 1.\n",
      "\n",
      "**Unique Points:**\n",
      "\n",
      "- **Document 1:**\n",
      "  - Does not mention the administrative sharing of NPP-3 and NUP2 with Sabah.\n",
      "  - Does not specify the approval date of the documents.\n",
      "\n",
      "- **Document 2:**\n",
      "  - Includes the detail about the administrative sharing of NPP-3 and NUP2 with Sabah.\n",
      "  - Provides the approval date of the documents as 2017.\n",
      "\n",
      "Overall, both documents provide a consistent overview of the national physical development plans in Peninsular Malaysia, with minor differences in administrative details and approval dates.\n",
      "\n",
      "\n",
      "\n",
      "\n",
      "Comparison Two:\n",
      "Comparison 2:\n",
      " Both documents discuss the national physical development framework in Peninsular Malaysia, focusing on three key planning documents: the National Physical Plan-3 (NPP-3), the Second National Urbanisation Policy (NUP-2), and the National Rural Physical Plan 2030 (NRPP 2030). Here is a comparison of the two documents:\n",
      "\n",
      "1. **Scope and Application**:\n",
      "   - Both documents highlight that the NPP-3, NUP-2, and NRPP 2030 guide physical development in Peninsular Malaysia. They also note that due to constitutional arrangements, the states of Sabah and Sarawak have separate planning systems. However, Document 2 mentions that the NPP-3 and NUP-2 are shared administratively with the state of Sabah, which is not mentioned in Document 1.\n",
      "\n",
      "2. **Approval and Implementation**:\n",
      "   - Document 2 specifies that these planning documents were approved for implementation in 2017, a detail not provided in Document 1.\n",
      "\n",
      "3. **NPP-3 Strategic Directions and Strategies**:\n",
      "   - Both documents describe the NPP-3 as the highest-ranking planning document, emphasizing sustainability and resilience towards climate change through three strategic directions: sustainable management of resources, holistic land use planning, and low carbon cities and sustainable infrastructure.\n",
      "   - They both list the same 15 strategies to implement these directions, focusing on ecological conservation, resource management, disaster risk management, and sustainable development practices.\n",
      "\n",
      "4. **NUP-2 and NRPP 2030**:\n",
      "   - Both documents describe the NUP-2 as a guide for sustainable urban planning with an emphasis on balanced development across various dimensions (physical, environmental, social, and economic).\n",
      "   - The NRPP 2030 is described in both documents as the first spatial rural development document outlining policy statements, strategies, and implementation measures to achieve rural development goals. Document 2 adds that these are organized according to specific themes and thrusts.\n",
      "\n",
      "5. **Additional Details**:\n",
      "   - Document 2 includes a statement that the strategies will help enhance adaptation to and mitigation of climate change, which is not explicitly mentioned in Document 1.\n",
      "\n",
      "Overall, both documents provide a similar overview of the national physical development framework in Peninsular Malaysia, with Document 2 offering a few additional details regarding administrative sharing with Sabah, the approval year, and the climate change adaptation and mitigation focus.\n",
      "\n",
      "\n",
      "\n",
      "\n",
      "Please assign a score based on your evaluation:\n",
      "- Enter \"2\" if you prefer Comparison One.\n",
      "- Enter \"0\" if you prefer Comparison Two.\n",
      "- Enter \"1\" if you are unable to choose a clear winner or find them equivalent.\n",
      "\n",
      "Your response should be a single number: 2, 1, or 0.\n",
      "Your response: \n",
      "Prompt token usage: 1172 ~$0.005860000000000001\n",
      "Response token usage: 2 ~$2.9999999999999997e-05\n",
      "Generated Score:\n",
      "2\n",
      "Comparison output saved to evaluate/1.jsonl\n"
     ]
    }
   ],
   "source": [
    "evaluate(\n",
    "    \"openai\",\n",
    "    \"gpt-4o\",\n",
    "    config[\"comparison\"][\"output\"],\n",
    "    config[\"baseline\"][\"output\"],\n",
    "    config[\"evaluate\"][\"prompt\"],\n",
    "    config[\"evaluate\"][\"output\"],\n",
    ")"
   ]
  },
  {
   "cell_type": "code",
   "execution_count": null,
   "metadata": {},
   "outputs": [],
   "source": []
  }
 ],
 "metadata": {
  "kernelspec": {
   "display_name": "Python3 (ipykernel)",
   "language": "python",
   "name": "python3"
  },
  "language_info": {
   "codemirror_mode": {
    "name": "ipython",
    "version": 3
   },
   "file_extension": ".py",
   "mimetype": "text/x-python",
   "name": "python",
   "nbconvert_exporter": "python",
   "pygments_lexer": "ipython3",
   "version": "3.10.12"
  }
 },
 "nbformat": 4,
 "nbformat_minor": 4
}
