{
 "cells": [
  {
   "cell_type": "code",
   "execution_count": null,
   "metadata": {},
   "outputs": [],
   "source": [
    "# TopicGPT_Python package\n",
    "\n",
    "`topicgpt_python` consists of five modules in total: \n",
    "- `generate_topic_lvl1` generates high-level and generalizable topics. \n",
    "- `generate_topic_lvl2` generates low-level and specific topics to each high-level topic.\n",
    "- `refine_topics` refines the generated topics by merging similar topics and removing irrelevant topics.\n",
    "- `assign_topics` assigns the generated topics to the input text, along with a quote that supports the assignment.\n",
    "- `correct_topics` corrects the generated topics by reprompting the model so that the topic assignment is grounded in the topic list. \n",
    "\n",
    "![topicgpt_python](assets/img/pipeline.png)"
   ]
  },
  {
   "cell_type": "markdown",
   "metadata": {},
   "source": [
    "## Setup\n",
    "1. Make a new Python 3.9+ environment using virtualenv or conda. \n",
    "2. Install the required packages: `pip install --upgrade topicgpt_python`.\n",
    "- Our package supports OpenAI API, Google Cloud Vertex AI API, Gemini API, Azure API, and vLLM inference. vLLM requires GPUs to run. \n",
    "- Please refer to https://openai.com/pricing/ for OpenAI API pricing or to https://cloud.google.com/vertex-ai/pricing for Vertex API pricing. "
   ]
  },
  {
   "cell_type": "code",
   "execution_count": 2,
   "metadata": {
    "vscode": {
     "languageId": "shellscript"
    }
   },
   "outputs": [],
   "source": [
    "import os\n",
    "os.environ[\"OPENAI_API_KEY\"] = "
   ]
  },
  {
   "cell_type": "markdown",
   "metadata": {},
   "source": [
    "## Usage\n",
    "1. First, define the necessary file paths for I/O operations in `config.yml`. \n",
    "2. Then, import the necessary modules and functions from `topicgpt_python`.\n",
    "3. Store your data in `data/input` and modify the `data_sample` path in `config.yml`. \n",
    "\n",
    "- Prepare your `.jsonl` data file in the following format:\n",
    "    ```\n",
    "    {\n",
    "        \"id\": \"IDs (optional)\",\n",
    "        \"text\": \"Documents\",\n",
    "        \"label\": \"Ground-truth labels (optional)\"\n",
    "    }\n",
    "    ```"
   ]
  },
  {
   "cell_type": "code",
   "execution_count": null,
   "metadata": {},
   "outputs": [],
   "source": [
    "import os\n",
    "import sys\n",
    "folder_path = os.path.abspath(\"topicgpt_python\")\n",
    "\n",
    "# Add the folder to sys.path\n",
    "sys.path.append(folder_path)\n",
    "\n",
    "# Import modules directly\n",
    "from data_sample import sample_data\n",
    "from generation_1 import generate_topic_lvl1\n",
    "from generation_2 import generate_topic_lvl2\n",
    "from refinement import refine_topics\n",
    "from assignment import assign_topics\n",
    "from correction import correct_topics\n",
    "from comparison import comparison\n",
    "from baseline import baseline\n",
    "from evaluate import evaluate\n",
    "import yaml\n",
    "\n",
    "with open(\"config.yml\", \"r\") as f:\n",
    "    config = yaml.safe_load(f)"
   ]
  },
  {
   "cell_type": "code",
   "execution_count": null,
   "metadata": {},
   "outputs": [
    {
     "name": "stdout",
     "output_type": "stream",
     "text": [
      "-------------------\n",
      "Initializing topic generation...\n",
      "Model: gpt-4o\n",
      "Data file: true_inputs/run.jsonl\n",
      "Prompt file: prompt/generation_1.txt\n",
      "Seed file: prompt/seed_1.md\n",
      "Output file: true_outputs/1/generation_1.jsonl\n",
      "Topic file: true_outputs/1/generation_1.md\n",
      "-------------------\n"
     ]
    },
    {
     "name": "stderr",
     "output_type": "stream",
     "text": [
      " 50%|█████     | 1/2 [00:02<00:02,  2.05s/it]"
     ]
    },
    {
     "name": "stdout",
     "output_type": "stream",
     "text": [
      "Prompt token usage: 949 ~$0.004745\n",
      "Response token usage: 45 ~$0.000675\n",
      "Topics: [1] Urban and Regional Planning: Involves the development and design of land use and the built environment, including the infrastructure passing into and out of urban areas, such as transportation, communications, and distribution networks.\n",
      "--------------------\n"
     ]
    },
    {
     "name": "stderr",
     "output_type": "stream",
     "text": [
      "100%|██████████| 2/2 [00:03<00:00,  1.83s/it]"
     ]
    },
    {
     "name": "stdout",
     "output_type": "stream",
     "text": [
      "Prompt token usage: 937 ~$0.004685\n",
      "Response token usage: 50 ~$0.00075\n",
      "Topics: [1] Urban and Regional Planning: Involves the development and design of land use and the built environment, including air, water, and the infrastructure passing into and out of urban areas, such as transportation, communications, and distribution networks.\n",
      "--------------------\n"
     ]
    },
    {
     "name": "stderr",
     "output_type": "stream",
     "text": [
      "\n"
     ]
    },
    {
     "data": {
      "text/plain": [
       "<topicgpt_python.utils.TopicTree at 0x7f344cc7d240>"
      ]
     },
     "execution_count": 18,
     "metadata": {},
     "output_type": "execute_result"
    }
   ],
   "source": [
    "\n",
    "generate_topic_lvl1(\n",
    "    \"openai\",\n",
    "    \"gpt-4o\",\n",
    "    config[\"data_sample\"],\n",
    "    config[\"generation\"][\"prompt\"],\n",
    "    config[\"generation\"][\"seed\"],\n",
    "    config[\"generation\"][\"output\"],\n",
    "    config[\"generation\"][\"topic_output\"],\n",
    "    verbose=config[\"verbose\"],\n",
    ")"
   ]
  },
  {
   "cell_type": "code",
   "execution_count": 5,
   "metadata": {},
   "outputs": [
    {
     "name": "stdout",
     "output_type": "stream",
     "text": [
      "-------------------\n",
      "Initializing topic generation (lvl 2)...\n",
      "Model: gpt-4o\n",
      "Data file: true_outputs/1/generation_1.jsonl\n",
      "Prompt file: prompt/generation_2.txt\n",
      "Seed file: true_outputs/1/generation_1.md\n",
      "Output file: true_outputs/1/generation_2.jsonl\n",
      "Topic file: true_outputs/1/generation_2.md\n",
      "-------------------\n",
      "Number of remaining documents for prompting: 2\n"
     ]
    },
    {
     "name": "stderr",
     "output_type": "stream",
     "text": [
      "  0%|          | 0/1 [00:00<?, ?it/s]"
     ]
    },
    {
     "name": "stdout",
     "output_type": "stream",
     "text": [
      "Current topic: [1] Urban and Regional Planning\n"
     ]
    },
    {
     "name": "stderr",
     "output_type": "stream",
     "text": [
      "100%|██████████| 1/1 [00:03<00:00,  3.02s/it]"
     ]
    },
    {
     "name": "stdout",
     "output_type": "stream",
     "text": [
      "Subtopics: [1] Urban and Regional Planning\n",
      "   [2] National Physical Planning (Document: 1, 2): Involves the development and implementation of national-level physical planning documents such as the National Physical Plan-3 (NPP-3), focusing on strategic and sectoral policies translated into spatial and physical dimensions.\n",
      "   [2] Urbanisation Policy (Document: 1, 2): Pertains to policies guiding sustainable urban planning and development, emphasizing balanced development across physical, environmental, social, and economic dimensions.\n",
      "   [2] Rural Development Planning (Document: 1, 2): Concerns the planning and implementation of strategies for rural development, as outlined in documents like the National Rural Physical Plan 2030, focusing on spatial rural development and policy measures.\n",
      "Not a match: [2] National Physical Planning (Document: 1, 2): Involves the development and implementation of national-level physical planning documents such as the National Physical Plan-3 (NPP-3), focusing on strategic and sectoral policies translated into spatial and physical dimensions.\n",
      "Urbanisation Policy (Count: 0): Pertains to policies guiding sustainable urban planning and development, emphasizing balanced development across physical, environmental, social, and economic dimensions.\n",
      "Rural Development Planning (Count: 0): Concerns the planning and implementation of strategies for rural development, as outlined in documents like the National Rural Physical Plan 2030, focusing on spatial rural development and policy measures.\n",
      "--------------------------------------------------\n"
     ]
    },
    {
     "name": "stderr",
     "output_type": "stream",
     "text": [
      "\n"
     ]
    }
   ],
   "source": [
    "# Optional: Generate subtopics\n",
    "if config[\"generate_subtopics\"]:\n",
    "    generate_topic_lvl2(\n",
    "        \"openai\",\n",
    "        \"gpt-4o\",\n",
    "        config[\"generation\"][\"topic_output\"],\n",
    "        config[\"generation\"][\"output\"],\n",
    "        config[\"generation_2\"][\"prompt\"],\n",
    "        config[\"generation_2\"][\"output\"],\n",
    "        config[\"generation_2\"][\"topic_output\"],\n",
    "        verbose=config[\"verbose\"],\n",
    "    )"
   ]
  },
  {
   "cell_type": "code",
   "execution_count": 6,
   "metadata": {},
   "outputs": [
    {
     "name": "stdout",
     "output_type": "stream",
     "text": [
      "-------------------\n",
      "Initializing topic assignment...\n",
      "Model: gpt-4o-mini\n",
      "Data file: true_inputs/run.jsonl\n",
      "Prompt file: prompt/assignment.txt\n",
      "Output file: true_outputs/1/assignment_2.jsonl\n",
      "Topic file: true_outputs/1/generation_2.md\n",
      "-------------------\n"
     ]
    },
    {
     "name": "stderr",
     "output_type": "stream",
     "text": [
      " 50%|█████     | 1/2 [00:03<00:03,  3.66s/it]"
     ]
    },
    {
     "name": "stdout",
     "output_type": "stream",
     "text": [
      "Prompt token usage: 924 ~$0.00462\n",
      "Response token usage: 140 ~$0.0021\n",
      "Response: [2] Urbanisation Policy: The document discusses the Second National Urbanisation Policy (NUP-2), which provides guidance on sustainable urban planning and emphasizes balanced development across various dimensions. (Supporting quote: \"The NUP-2 provides guidance on sustainable urban planning and development with an emphasis for balanced development physically, environmentally, socially and economically.\")\n",
      "\n",
      "[2] Rural Development Planning: The document mentions the National Rural Physical Plan 2030 (NRPP 2030), which outlines strategies and implementation measures for rural development. (Supporting quote: \"The NRPP 2030 is the first spatial rural development document that outlines policy statements, strategies and implementation measures towards materialising the rural development vision.\")\n",
      "--------------------\n"
     ]
    },
    {
     "name": "stderr",
     "output_type": "stream",
     "text": [
      "100%|██████████| 2/2 [00:06<00:00,  3.19s/it]"
     ]
    },
    {
     "name": "stdout",
     "output_type": "stream",
     "text": [
      "Prompt token usage: 904 ~$0.00452\n",
      "Response token usage: 166 ~$0.00249\n",
      "Response: [2] Urbanisation Policy: The document discusses the Second National Urbanisation Policy (NUP2), which is focused on guiding and coordinating sustainable urban planning and development, emphasizing balanced development across various dimensions. (Supporting quote: \"The NUP2 is a policy to guide and coordinate sustainable urban planning and development with emphasis on balanced development physically, environmentally, socially and economically.\")\n",
      "\n",
      "[2] Rural Development Planning: The document mentions the National Rural Physical Plan 2030 (NRPP 2030), which is described as the nation’s first spatial rural development document outlining strategies and implementation measures for rural development. (Supporting quote: \"The NRPP 2030 is the nation’s first spatial rural development document that outlines policy statements, strategies and implementation measures according to specific themes and thrusts towards materialising the rural development vision.\")\n",
      "--------------------\n"
     ]
    },
    {
     "name": "stderr",
     "output_type": "stream",
     "text": [
      "\n"
     ]
    }
   ],
   "source": [
    "# Assignment\n",
    "assign_topics(\n",
    "    \"openai\",\n",
    "    \"gpt-4o-mini\",\n",
    "    config[\"data_sample\"],\n",
    "    config[\"assignment\"][\"prompt\"],\n",
    "    config[\"assignment\"][\"output\"],\n",
    "    config[\"generation_2\"][\n",
    "        \"topic_output\"\n",
    "    ],  # TODO: change to generation_2 if you have subtopics, or config['refinement']['topic_output'] if you refined topics\n",
    "    verbose=config[\"verbose\"],\n",
    ")"
   ]
  },
  {
   "cell_type": "code",
   "execution_count": 7,
   "metadata": {},
   "outputs": [
    {
     "name": "stdout",
     "output_type": "stream",
     "text": [
      "Final prompt sent to API Agent:\n",
      "As a climate scientist and specialized Q&A bot with expertise in climate change, climate science, environmental science, physics, and energy science, your primary objective is: \n",
      "1. Provide an accurate and comprehensive comparison from the two documents inputted by the user.  \n",
      "2. Provide detailed discussions on both similarities of the points, and differences, additionally discuss when only one topic appears in one document only \n",
      "3. In cases where sufficient information is lacking to address the comparison, reply with ’There is not enough info to answer the question.’ \n",
      "4. It’s imperative to maintain accuracy and refrain from creating information. If any aspect is unclear, do not create answers about that aspect.\n",
      "\n",
      "[Instructions]\n",
      "Here is two documents, as well as key discussion points, provide a comparison:\n",
      "\n",
      "[Document]\n",
      "Document 1:\n",
      "Text: ,For the period until 2020, national physical development in Peninsular Malaysia is guided by three physical planning documents, the National Physical Plan-3 (NPP-3), the Second National Urbanisation Policy (NUP-2) and the National Rural Physical Plan 2030 (NRPP 2030). Due to constitutional arrangements, the states of Sabah and Sarawak have autonomy in the development control process and are governed by separate planning systems. Thus, NPP-3, NUP-2 and NRPP 2030 only applies to Peninsular Malaysia.,The NPP-3 is the highest-ranking planning document in the national development framework which translates strategic and sectoral policies into spatial and physical dimensions. Emphasis is placed on sustainability and resilience towards climate change in three strategic directions:,a)\tSustainable management of natural, food and heritage resources;,b)\tHolistic land use planning; and,c)\tLow carbon cities and sustainable infrastructure.,The three strategic directions are being implemented through 15 strategies and 44 actions. The 15 strategies are:,a)\tImproving preservation and conservation of national ecological assets;,b)\tManaging and controlling development in environmentally sensitive areas;,c)\tEnhancing security and sustainability of water resources;,d)\tManaging mineral resource exploration;,e)\tPromoting food security;,f)\tStrengthening protection and preservation of national archaeological and natural heritage sites;,g)\tOptimising land use and availability;,h)\tManaging natural disaster risk areas;,i)\tManaging development growth and sprawl;,j)\tPromoting integrated rural development;,k)\tCreating low carbon cities development;,l)\tPromoting use of sustainable energy sources;,m)\tImplementing integrated water cycle management;,n)\tPromoting green mobility; and,o)\tStrengthening integrated and sustainable solid waste management.,The NUP-2 provides guidance on sustainable urban planning and development with an emphasis for balanced development physically, environmentally, socially and economically. The NRPP 2030 is the first spatial rural development document that,outlines policy statements, strategies and implementation measures towards materialising the rural development vision.,\n",
      "Topics: [2] Urbanisation Policy: The document discusses the Second National Urbanisation Policy (NUP-2), which provides guidance on sustainable urban planning and emphasizes balanced development across various dimensions. (Supporting quote: \"The NUP-2 provides guidance on sustainable urban planning and development with an emphasis for balanced development physically, environmentally, socially and economically.\")\n",
      "\n",
      "[2] Rural Development Planning: The document mentions the National Rural Physical Plan 2030 (NRPP 2030), which outlines strategies and implementation measures for rural development. (Supporting quote: \"The NRPP 2030 is the first spatial rural development document that outlines policy statements, strategies and implementation measures towards materialising the rural development vision.\")\n",
      "\n",
      "Document 2:\n",
      "Text: National physical development in Peninsular Malaysia is guided by the three current physical planning documents, the National Physical Plan-3 (NPP-3), the Second National Urbanisation Policy (NUP2) and the National Rural Physical Plan 2030 (NRPP 2030). These documents were approved for implementation in 2017. Due to constitutional arrangements, the development control process in the states of Sabah and Sarawak is governed by separate planning systems. The NPP-3 and NUP2 are shared administratively with the state of Sabah.,The NPP-3 is the highest ranking planning document in the national development framework which translates the strategic and sectoral policies into spatial and physical dimensions. In the document, emphasis is placed on sustainability and resilience towards climate change through three strategic directions namely,,(i)\tSustainable management of natural, food and heritage resources;,(ii)\tHolistic land use planning; and,(iii)\tLow carbon cities and sustainable infrastructure.,The three strategic directions will be implemented through 15 strategies and 44 actions. The 15 strategies consist of the following: improving preservation and conservation of national ecological assets; managing and controlling development in environmentally sensitive areas; enhancing security and sustainability of water resources; managing mineral resource exploration; promoting food security; strengthening protection and preservation of national archaeological and natural heritage sites; optimising land use and availability; managing natural disaster risk areas; managing development growth and sprawl; promoting integrated rural development; creating low carbon cities development; promoting use of sustainable energy sources; implementing integrated water cycle management; promoting green mobility; and strengthening integrated and sustainable solid waste management. These strategies will help to enhance,adaptation to, and mitigation of climate change in the country.,The NUP2 is a policy to guide and coordinate sustainable urban planning and development with emphasis on balanced development physically, environmentally, socially and economically. The NRPP 2030 is the nation’s first spatial rural development document that outlines policy statements, strategies and implementation measures according to specific themes and thrusts towards materialising the rural development vision.,\n",
      "Topics: [2] Urbanisation Policy: The document discusses the Second National Urbanisation Policy (NUP2), which is focused on guiding and coordinating sustainable urban planning and development, emphasizing balanced development across various dimensions. (Supporting quote: \"The NUP2 is a policy to guide and coordinate sustainable urban planning and development with emphasis on balanced development physically, environmentally, socially and economically.\")\n",
      "\n",
      "[2] Rural Development Planning: The document mentions the National Rural Physical Plan 2030 (NRPP 2030), which is described as the nation’s first spatial rural development document outlining strategies and implementation measures for rural development. (Supporting quote: \"The NRPP 2030 is the nation’s first spatial rural development document that outlines policy statements, strategies and implementation measures according to specific themes and thrusts towards materialising the rural development vision.\")\n",
      "\n",
      "Your response:\n",
      "\n",
      "Prompt token usage: 1345 ~$0.006725\n",
      "Response token usage: 670 ~$0.01005\n",
      "Generated Comparison:\n",
      "Both documents discuss the national physical development framework in Peninsular Malaysia, focusing on three key planning documents: the National Physical Plan-3 (NPP-3), the Second National Urbanisation Policy (NUP-2 or NUP2), and the National Rural Physical Plan 2030 (NRPP 2030). Here is a detailed comparison of the two documents:\n",
      "\n",
      "**Similarities:**\n",
      "\n",
      "1. **Guiding Documents:**\n",
      "   - Both documents identify the same three guiding documents for national physical development in Peninsular Malaysia: NPP-3, NUP-2 (or NUP2), and NRPP 2030.\n",
      "\n",
      "2. **Emphasis on Sustainability and Climate Change:**\n",
      "   - Both documents emphasize sustainability and resilience towards climate change as key components of the NPP-3. They outline three strategic directions: sustainable management of natural, food, and heritage resources; holistic land use planning; and low carbon cities and sustainable infrastructure.\n",
      "\n",
      "3. **Strategies and Actions:**\n",
      "   - Both documents mention that the strategic directions of the NPP-3 are implemented through 15 strategies and 44 actions. The strategies listed are identical in both documents, covering areas such as ecological asset preservation, water resource sustainability, food security, low carbon city development, and sustainable energy use.\n",
      "\n",
      "4. **Urbanisation Policy (NUP-2/NUP2):**\n",
      "   - Both documents describe the NUP-2 (or NUP2) as a policy guiding sustainable urban planning and development, emphasizing balanced development across physical, environmental, social, and economic dimensions.\n",
      "\n",
      "5. **Rural Development Planning (NRPP 2030):**\n",
      "   - Both documents describe the NRPP 2030 as the first spatial rural development document outlining policy statements, strategies, and implementation measures to achieve the rural development vision.\n",
      "\n",
      "**Differences:**\n",
      "\n",
      "1. **Administrative Sharing with Sabah:**\n",
      "   - Document 2 mentions that the NPP-3 and NUP2 are shared administratively with the state of Sabah, which is not mentioned in Document 1.\n",
      "\n",
      "2. **Approval Year:**\n",
      "   - Document 2 specifies that these documents were approved for implementation in 2017, a detail not provided in Document 1.\n",
      "\n",
      "3. **Themes and Thrusts in NRPP 2030:**\n",
      "   - Document 2 mentions that the NRPP 2030 outlines strategies and implementation measures according to specific themes and thrusts, a detail not explicitly mentioned in Document 1.\n",
      "\n",
      "**Unique Points:**\n",
      "\n",
      "- **Document 1:**\n",
      "  - It explicitly states that due to constitutional arrangements, the states of Sabah and Sarawak have autonomy in the development control process and are governed by separate planning systems, implying that the NPP-3, NUP-2, and NRPP 2030 apply only to Peninsular Malaysia.\n",
      "\n",
      "- **Document 2:**\n",
      "  - It highlights that the strategies in the NPP-3 will help enhance adaptation to and mitigation of climate change in the country, a point not explicitly mentioned in Document 1.\n",
      "\n",
      "Overall, both documents provide a comprehensive overview of the national physical development framework in Peninsular Malaysia, with a strong focus on sustainability, climate change resilience, and balanced development. The differences are mainly in the administrative details and additional context provided in Document 2.\n",
      "Comparison output saved to comparisons/1.jsonl\n"
     ]
    }
   ],
   "source": [
    "# Optional: Generate comparisons\n",
    "if config[\"generate_comparison\"]:\n",
    "    comparison(\n",
    "        \"openai\",\n",
    "        \"gpt-4o\",\n",
    "        config[\"assignment\"][\"output\"],\n",
    "        config[\"comparison\"][\"prompt\"],\n",
    "        config[\"comparison\"][\"output\"],\n",
    "    )"
   ]
  },
  {
   "cell_type": "code",
   "execution_count": null,
   "metadata": {},
   "outputs": [],
   "source": [
    "baseline(\n",
    "    \"openai\",\n",
    "    \"gpt-4o\",\n",
    "    config[\"assignment\"][\"output\"],\n",
    "    config[\"baseline\"][\"prompt\"],\n",
    "    config[\"baseline\"][\"output\"],\n",
    ")"
   ]
  },
  {
   "cell_type": "code",
   "execution_count": null,
   "metadata": {},
   "outputs": [],
   "source": [
    "evaluate(\n",
    "    \"openai\",\n",
    "    \"gpt-4o\",\n",
    "    config[\"comparison\"][\"output\"],\n",
    "    config[\"baseline\"][\"output\"],\n",
    "    config[\"evaluate\"][\"prompt\"],\n",
    "    config[\"evaluate\"][\"output\"],\n",
    ")"
   ]
  }
 ],
 "metadata": {
  "kernelspec": {
   "display_name": "Python3 (ipykernel)",
   "language": "python",
   "name": "python3"
  },
  "language_info": {
   "codemirror_mode": {
    "name": "ipython",
    "version": 3
   },
   "file_extension": ".py",
   "mimetype": "text/x-python",
   "name": "python",
   "nbconvert_exporter": "python",
   "pygments_lexer": "ipython3",
   "version": "3.10.12"
  }
 },
 "nbformat": 4,
 "nbformat_minor": 4
}
