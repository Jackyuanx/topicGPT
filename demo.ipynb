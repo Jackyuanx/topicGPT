{
 "cells": [
  {
   "cell_type": "code",
   "execution_count": null,
   "metadata": {},
   "outputs": [],
   "source": [
    "# TopicGPT_Python package\n",
    "\n",
    "`topicgpt_python` consists of five modules in total: \n",
    "- `generate_topic_lvl1` generates high-level and generalizable topics. \n",
    "- `generate_topic_lvl2` generates low-level and specific topics to each high-level topic.\n",
    "- `refine_topics` refines the generated topics by merging similar topics and removing irrelevant topics.\n",
    "- `assign_topics` assigns the generated topics to the input text, along with a quote that supports the assignment.\n",
    "- `correct_topics` corrects the generated topics by reprompting the model so that the topic assignment is grounded in the topic list. \n",
    "\n",
    "![topicgpt_python](assets/img/pipeline.png)"
   ]
  },
  {
   "cell_type": "markdown",
   "metadata": {},
   "source": [
    "## Setup\n",
    "1. Make a new Python 3.9+ environment using virtualenv or conda. \n",
    "2. Install the required packages: `pip install --upgrade topicgpt_python`.\n",
    "- Our package supports OpenAI API, Google Cloud Vertex AI API, Gemini API, Azure API, and vLLM inference. vLLM requires GPUs to run. \n",
    "- Please refer to https://openai.com/pricing/ for OpenAI API pricing or to https://cloud.google.com/vertex-ai/pricing for Vertex API pricing. "
   ]
  },
  {
   "cell_type": "code",
   "execution_count": 4,
   "metadata": {
    "vscode": {
     "languageId": "shellscript"
    }
   },
   "outputs": [],
   "source": []
  },
  {
   "cell_type": "markdown",
   "metadata": {},
   "source": [
    "## Usage\n",
    "1. First, define the necessary file paths for I/O operations in `config.yml`. \n",
    "2. Then, import the necessary modules and functions from `topicgpt_python`.\n",
    "3. Store your data in `data/input` and modify the `data_sample` path in `config.yml`. \n",
    "\n",
    "- Prepare your `.jsonl` data file in the following format:\n",
    "    ```\n",
    "    {\n",
    "        \"id\": \"IDs (optional)\",\n",
    "        \"text\": \"Documents\",\n",
    "        \"label\": \"Ground-truth labels (optional)\"\n",
    "    }\n",
    "    ```"
   ]
  },
  {
   "cell_type": "code",
   "execution_count": 5,
   "metadata": {},
   "outputs": [],
   "source": [
    "import os\n",
    "import sys\n",
    "folder_path = os.path.abspath(\"topicgpt_python\")\n",
    "\n",
    "# Add the folder to sys.path\n",
    "sys.path.append(folder_path)\n",
    "\n",
    "# Import modules directly\n",
    "from data_sample import sample_data\n",
    "from generation_1 import generate_topic_lvl1\n",
    "from generation_2 import generate_topic_lvl2\n",
    "from refinement import refine_topics\n",
    "from assignment import assign_topics\n",
    "from correction import correct_topics\n",
    "from comparison import comparison\n",
    "from baseline import baseline\n",
    "from evaluate import evaluate\n",
    "import yaml\n",
    "\n",
    "with open(\"config.yml\", \"r\") as f:\n",
    "    config = yaml.safe_load(f)"
   ]
  },
  {
   "cell_type": "code",
   "execution_count": 6,
   "metadata": {},
   "outputs": [
    {
     "name": "stdout",
     "output_type": "stream",
     "text": [
      "-------------------\n",
      "Initializing topic generation...\n",
      "Model: gpt-4o\n",
      "Data file: true_inputs/run4.jsonl\n",
      "Prompt file: prompt/generation_1.txt\n",
      "Seed file: prompt/seed_1.md\n",
      "Output file: true_outputs/1/generation_1_4.jsonl\n",
      "Topic file: true_outputs/1/generation_1_4.md\n",
      "-------------------\n"
     ]
    },
    {
     "name": "stderr",
     "output_type": "stream",
     "text": [
      " 50%|█████     | 1/2 [00:02<00:02,  3.00s/it]"
     ]
    },
    {
     "name": "stdout",
     "output_type": "stream",
     "text": [
      "Prompt token usage: 9210 ~$0.046049999999999994\n",
      "Response token usage: 169 ~$0.002535\n",
      "Topics: [1] Trade: Mentions the exchange of capital, goods, and services.  \n",
      "[1] Agriculture: Mentions policies relating to agricultural practices and products.  \n",
      "[1] Climate: Discusses climate conditions, climate change impacts, and related policies.  \n",
      "[1] Energy: Covers topics related to energy production, consumption, and resources.  \n",
      "[1] Water Resources: Involves the management and use of water resources, including desalination and water conservation.  \n",
      "[1] Tourism: Pertains to the development and promotion of tourism and related infrastructure.  \n",
      "[1] Education: Relates to educational systems, policies, and development.  \n",
      "[1] Health: Concerns healthcare systems, policies, and services.  \n",
      "[1] Industrial Development: Involves the growth and management of industrial sectors and economic zones.\n",
      "--------------------\n"
     ]
    },
    {
     "name": "stderr",
     "output_type": "stream",
     "text": [
      "100%|██████████| 2/2 [00:10<00:00,  5.46s/it]"
     ]
    },
    {
     "name": "stdout",
     "output_type": "stream",
     "text": [
      "Prompt token usage: 13177 ~$0.065885\n",
      "Response token usage: 537 ~$0.008055000000000001\n",
      "Invalid topic format: . Skipping...\n",
      "Invalid topic format: . Skipping...\n",
      "Invalid topic format: . Skipping...\n",
      "Invalid topic format: . Skipping...\n",
      "Invalid topic format: . Skipping...\n",
      "Invalid topic format: . Skipping...\n",
      "Invalid topic format: . Skipping...\n",
      "Invalid topic format: . Skipping...\n",
      "Invalid topic format: . Skipping...\n",
      "Topics: [1] Climate: The document discusses the UAE's comprehensive approach to climate policies, including the establishment of the UAE Council on Climate Action, the National Climate Change Plan, and the UAE Net Zero strategy. It highlights the UAE's commitment to addressing climate change, reducing emissions, and adapting to its effects through various strategies and initiatives.\n",
      "\n",
      "[1] Energy: The document mentions the UAE's efforts to expand clean energy generation, explore eco-friendly technologies, and develop a carbon capture and storage industry. It also discusses the UAE's role as a major producer and exporter of oil and gas, and its strategy to diversify its energy mix towards renewable sources.\n",
      "\n",
      "[1] Water Resources: The document references the UAE's hydrological map, which assesses the suitability of ground and surface water resources for constructing dams and other water facilities. It also discusses the challenges posed by limited water resources in the Arabian Peninsula and the UAE's efforts to manage these resources sustainably.\n",
      "\n",
      "[1] Agriculture: The document details the UAE's efforts to establish a sustainable agricultural industry, including the promotion of modern irrigation systems, drought-tolerant crops, and agricultural technologies. It highlights initiatives like the Ag Tech Accelerators, Food Tech Valley, and the FoodTech Challenge to drive innovation and enhance food security.\n",
      "\n",
      "[1] Health: The document mentions the Ministry of Health and Prevention's role in ensuring the health and well-being of the UAE's citizens and residents, providing high-quality healthcare services, and adopting global best practices. It also discusses the UAE's national health strategy and the integration of artificial intelligence in healthcare services.\n",
      "\n",
      "[1] Industrial Development: The document discusses the Ministry of Industry and Advanced Technology's role in overseeing and strengthening the UAE's industrial sector, promoting industrial growth, and encouraging the adoption of advanced technologies and innovations.\n",
      "\n",
      "[1] Governance: The document provides an overview of the UAE's governance structure, including the federal and emirate-level governing bodies, the Federal Supreme Council, the Federal National Council, and the Cabinet. It highlights the roles and responsibilities of these entities in formulating policies and legislation.\n",
      "\n",
      "[1] Environment: The document discusses the UAE's efforts to conserve biodiversity, protect ecosystems, and address environmental challenges. It highlights initiatives like the National Biodiversity Strategy, the National Strategy to Combat Desertification, and various conservation projects.\n",
      "\n",
      "[1] Economy: The document outlines the UAE's economic growth, diversification efforts, and transition to a low-carbon economy. It discusses the UAE's economic objectives, investments in emerging technologies, and strategies to attract and retain talent.\n",
      "\n",
      "[1] Tourism: The document does not explicitly mention tourism, but the UAE's economic diversification efforts and development of infrastructure may indirectly support the tourism sector.\n",
      "--------------------\n"
     ]
    },
    {
     "name": "stderr",
     "output_type": "stream",
     "text": [
      "\n"
     ]
    },
    {
     "data": {
      "text/plain": [
       "<topicgpt_python.utils.TopicTree at 0x7fb53bca4820>"
      ]
     },
     "execution_count": 6,
     "metadata": {},
     "output_type": "execute_result"
    }
   ],
   "source": [
    "\n",
    "generate_topic_lvl1(\n",
    "    \"openai\",\n",
    "    \"gpt-4o\",\n",
    "    config[\"data_sample\"],\n",
    "    config[\"generation\"][\"prompt\"],\n",
    "    config[\"generation\"][\"seed\"],\n",
    "    config[\"generation\"][\"output\"],\n",
    "    config[\"generation\"][\"topic_output\"],\n",
    "    verbose=config[\"verbose\"],\n",
    ")"
   ]
  },
  {
   "cell_type": "code",
   "execution_count": 7,
   "metadata": {},
   "outputs": [
    {
     "name": "stdout",
     "output_type": "stream",
     "text": [
      "-------------------\n",
      "Initializing topic generation (lvl 2)...\n",
      "Model: gpt-4o\n",
      "Data file: true_outputs/1/generation_1_4.jsonl\n",
      "Prompt file: prompt/generation_2.txt\n",
      "Seed file: true_outputs/1/generation_1_4.md\n",
      "Output file: true_outputs/1/generation_2_4.jsonl\n",
      "Topic file: true_outputs/1/generation_2_4.md\n",
      "-------------------\n",
      "Number of remaining documents for prompting: 2\n"
     ]
    },
    {
     "name": "stderr",
     "output_type": "stream",
     "text": [
      "  0%|          | 0/12 [00:00<?, ?it/s]"
     ]
    },
    {
     "name": "stdout",
     "output_type": "stream",
     "text": [
      "Current topic: [1] Trade\n"
     ]
    },
    {
     "name": "stderr",
     "output_type": "stream",
     "text": [
      "  8%|▊         | 1/12 [00:01<00:19,  1.81s/it]"
     ]
    },
    {
     "name": "stdout",
     "output_type": "stream",
     "text": [
      "Subtopics: [1] Trade\n",
      "   [2] Exports (Document: 1): Discusses the promotion and regulation of exports, including policies and coordination efforts.\n",
      "   [2] Economic Development (Document: 1): Mentions economic diversification and development plans, such as Saudi Vision 2030, which includes trade-related initiatives.\n",
      "   [2] Industrial Development (Document: 1): Covers the development of industrial zones and economic cities, which are relevant to trade and economic growth.\n",
      "Exports (Count: 0): Discusses the promotion and regulation of exports, including policies and coordination efforts.\n",
      "Economic Development (Count: 0): Mentions economic diversification and development plans, such as Saudi Vision 2030, which includes trade-related initiatives.\n",
      "Industrial Development (Count: 0): Covers the development of industrial zones and economic cities, which are relevant to trade and economic growth.\n",
      "--------------------------------------------------\n",
      "Current topic: [1] Agriculture\n"
     ]
    },
    {
     "name": "stderr",
     "output_type": "stream",
     "text": [
      " 17%|█▋        | 2/12 [00:26<02:29, 15.00s/it]"
     ]
    },
    {
     "name": "stdout",
     "output_type": "stream",
     "text": [
      "Subtopics: [1] Agriculture\n",
      "   [2] Climate and Environment (Document: 1, 2): Discusses the impact of climate change on agriculture and the environment, including water scarcity and sustainable practices.\n",
      "   [2] Water Resources (Document: 1, 2): Covers the management and use of water resources, including surface water, groundwater, and desalination, which are crucial for agriculture.\n",
      "   [2] Sustainable Agriculture Practices (Document: 1, 2): Focuses on innovative agricultural technologies and practices, such as hydroponics and organic farming, to enhance food security and sustainability.\n",
      "   [2] Economic Development and Diversification (Document: 1, 2): Relates to the role of agriculture in economic diversification and development, including initiatives to boost agricultural productivity and sustainability.\n",
      "Climate and Environment (Count: 0): Discusses the impact of climate change on agriculture and the environment, including water scarcity and sustainable practices.\n",
      "Water Resources (Count: 0): Covers the management and use of water resources, including surface water, groundwater, and desalination, which are crucial for agriculture.\n",
      "Sustainable Agriculture Practices (Count: 0): Focuses on innovative agricultural technologies and practices, such as hydroponics and organic farming, to enhance food security and sustainability.\n",
      "Economic Development and Diversification (Count: 0): Relates to the role of agriculture in economic diversification and development, including initiatives to boost agricultural productivity and sustainability.\n",
      "--------------------------------------------------\n",
      "Current topic: [1] Climate\n"
     ]
    },
    {
     "name": "stderr",
     "output_type": "stream",
     "text": [
      " 25%|██▌       | 3/12 [01:10<04:15, 28.41s/it]"
     ]
    },
    {
     "name": "stdout",
     "output_type": "stream",
     "text": [
      "Subtopics: [1] Climate\n",
      "   [2] Climate Change Adaptation (Document: 1, 2): Discusses strategies and actions taken to adapt to the impacts of climate change, including policies and initiatives aimed at managing climate risks and enhancing resilience.\n",
      "   [2] Climate Change Mitigation (Document: 1, 2): Focuses on efforts to reduce greenhouse gas emissions and implement strategies to mitigate the effects of climate change, such as the UAE's Net Zero strategy and Saudi Arabia's Vision 2030.\n",
      "   [2] Climate and Geography (Document: 1, 2): Covers the relationship between climate and geographical features, including how topography and location influence climate patterns and conditions in Saudi Arabia and the UAE.\n",
      "Climate Change Adaptation (Count: 0): Discusses strategies and actions taken to adapt to the impacts of climate change, including policies and initiatives aimed at managing climate risks and enhancing resilience.\n",
      "Climate Change Mitigation (Count: 0): Focuses on efforts to reduce greenhouse gas emissions and implement strategies to mitigate the effects of climate change, such as the UAE's Net Zero strategy and Saudi Arabia's Vision 2030.\n",
      "Climate and Geography (Count: 0): Covers the relationship between climate and geographical features, including how topography and location influence climate patterns and conditions in Saudi Arabia and the UAE.\n",
      "--------------------------------------------------\n",
      "Current topic: [1] Energy\n"
     ]
    },
    {
     "name": "stderr",
     "output_type": "stream",
     "text": [
      " 33%|███▎      | 4/12 [01:55<04:39, 34.98s/it]"
     ]
    },
    {
     "name": "stdout",
     "output_type": "stream",
     "text": [
      "Subtopics: [1] Energy\n",
      "   [2] Oil and Gas (Document: 1): Discusses the reserves, production, and export of oil and gas in Saudi Arabia.\n",
      "   [2] Electricity (Document: 1): Covers the power generation capacity, types of power plants, and electricity consumption in Saudi Arabia.\n",
      "   [2] Renewable Energy (Document: 2): Mentions the UAE's efforts in expanding clean energy generation and renewable energy investments.\n",
      "   [2] Climate Change and Energy Policy (Document: 2): Discusses the UAE's climate policies, including the National Climate Change Plan and the Net Zero by 2050 Strategic Initiative.\n",
      "Oil and Gas (Count: 0): Discusses the reserves, production, and export of oil and gas in Saudi Arabia.\n",
      "Electricity (Count: 0): Covers the power generation capacity, types of power plants, and electricity consumption in Saudi Arabia.\n",
      "Renewable Energy (Count: 0): Mentions the UAE's efforts in expanding clean energy generation and renewable energy investments.\n",
      "Climate Change and Energy Policy (Count: 0): Discusses the UAE's climate policies, including the National Climate Change Plan and the Net Zero by 2050 Strategic Initiative.\n",
      "--------------------------------------------------\n",
      "Current topic: [1] Water Resources\n"
     ]
    },
    {
     "name": "stderr",
     "output_type": "stream",
     "text": [
      " 42%|████▏     | 5/12 [02:38<04:25, 37.92s/it]"
     ]
    },
    {
     "name": "stdout",
     "output_type": "stream",
     "text": [
      "Subtopics: [1] Water Resources\n",
      "   [2] Surface Water (Document: 1): Discusses the management and storage of surface water through dams and runoff collection.\n",
      "   [2] Groundwater (Document: 1): Covers the use and categorization of groundwater resources, including shallow and deep aquifers.\n",
      "   [2] Desalinated Water (Document: 1): Focuses on the production and technologies used for desalinating water to meet potable water demands.\n",
      "   [2] Reclaimed Wastewater (Document: 1): Describes the treatment and reuse of wastewater for various purposes.\n",
      "   [2] Water Demand and Management (Document: 1): Addresses the water demand across different sectors and strategies for efficient water use.\n",
      "Surface Water (Count: 0): Discusses the management and storage of surface water through dams and runoff collection.\n",
      "Groundwater (Count: 0): Covers the use and categorization of groundwater resources, including shallow and deep aquifers.\n",
      "Desalinated Water (Count: 0): Focuses on the production and technologies used for desalinating water to meet potable water demands.\n",
      "Reclaimed Wastewater (Count: 0): Describes the treatment and reuse of wastewater for various purposes.\n",
      "Water Demand and Management (Count: 0): Addresses the water demand across different sectors and strategies for efficient water use.\n",
      "--------------------------------------------------\n",
      "Current topic: [1] Tourism\n"
     ]
    },
    {
     "name": "stderr",
     "output_type": "stream",
     "text": [
      " 50%|█████     | 6/12 [03:23<04:01, 40.17s/it]"
     ]
    },
    {
     "name": "stdout",
     "output_type": "stream",
     "text": [
      "Subtopics: [1] Tourism\n",
      "   [2] Mega Projects (Document: 1): Discusses large-scale development projects aimed at boosting tourism and economic diversification in Saudi Arabia.\n",
      "   [2] Cultural Heritage (Document: 1): Mentions historical and cultural sites that attract tourists, such as UNESCO World Heritage Sites.\n",
      "   [2] Economic Diversification (Document: 1): Relates to efforts to diversify the economy through tourism as part of Saudi Vision 2030.\n",
      "   [2] Infrastructure Development (Document: 1): Covers the development of infrastructure to support tourism, including new hotels, airports, and entertainment facilities.\n",
      "Mega Projects (Count: 0): Discusses large-scale development projects aimed at boosting tourism and economic diversification in Saudi Arabia.\n",
      "Cultural Heritage (Count: 0): Mentions historical and cultural sites that attract tourists, such as UNESCO World Heritage Sites.\n",
      "Economic Diversification (Count: 0): Relates to efforts to diversify the economy through tourism as part of Saudi Vision 2030.\n",
      "Infrastructure Development (Count: 0): Covers the development of infrastructure to support tourism, including new hotels, airports, and entertainment facilities.\n",
      "--------------------------------------------------\n",
      "Current topic: [1] Education\n"
     ]
    },
    {
     "name": "stderr",
     "output_type": "stream",
     "text": [
      " 58%|█████▊    | 7/12 [03:35<02:34, 30.94s/it]"
     ]
    },
    {
     "name": "stdout",
     "output_type": "stream",
     "text": [
      "Subtopics: [1] Education\n",
      "    [2] Educational Development (Document: 1): Focuses on the expansion and enhancement of education systems and policies in Saudi Arabia, including government initiatives and private sector involvement.\n",
      "    [2] Vision 2030 and Education (Document: 1): Discusses the role of education within the broader context of Saudi Vision 2030, highlighting goals for literacy, gender equality in education, and the continuous education program.\n",
      "Educational Development (Count: 0): Focuses on the expansion and enhancement of education systems and policies in Saudi Arabia, including government initiatives and private sector involvement.\n",
      "Vision 2030 and Education (Count: 0): Discusses the role of education within the broader context of Saudi Vision 2030, highlighting goals for literacy, gender equality in education, and the continuous education program.\n",
      "--------------------------------------------------\n",
      "Current topic: [1] Health\n"
     ]
    },
    {
     "name": "stderr",
     "output_type": "stream",
     "text": [
      " 67%|██████▋   | 8/12 [04:26<02:30, 37.50s/it]"
     ]
    },
    {
     "name": "stdout",
     "output_type": "stream",
     "text": [
      "Subtopics: [1] Health\n",
      "    [2] Healthcare System (Document: 1): Discusses the development and quality of healthcare services in Saudi Arabia, including government initiatives and budget allocations.\n",
      "    [2] Climate Change and Health (Document: 2): Covers the impact of climate change on health, including strategies for adaptation and mitigation in the UAE.\n",
      "    [2] Health and Economic Development (Document: 1): Explores the role of health in economic development plans, such as Saudi Vision 2030, and the integration of health services in national development strategies.\n",
      "Healthcare System (Count: 0): Discusses the development and quality of healthcare services in Saudi Arabia, including government initiatives and budget allocations.\n",
      "Climate Change and Health (Count: 0): Covers the impact of climate change on health, including strategies for adaptation and mitigation in the UAE.\n",
      "Health and Economic Development (Count: 0): Explores the role of health in economic development plans, such as Saudi Vision 2030, and the integration of health services in national development strategies.\n",
      "--------------------------------------------------\n",
      "Current topic: [1] Industrial Development\n"
     ]
    },
    {
     "name": "stderr",
     "output_type": "stream",
     "text": [
      " 75%|███████▌  | 9/12 [05:11<01:59, 39.88s/it]"
     ]
    },
    {
     "name": "stdout",
     "output_type": "stream",
     "text": [
      "Subtopics: [1] Industrial Development\n",
      "   [2] Vision 2030 (Document: 1): Discusses Saudi Arabia's Vision 2030, focusing on economic diversification and sustainable development.\n",
      "   [2] Energy (Document: 1, 2): Covers the energy sector, including oil, gas, and renewable energy initiatives in Saudi Arabia and the UAE.\n",
      "   [2] Water Resources (Document: 1): Discusses water scarcity, desalination, and water management strategies in Saudi Arabia.\n",
      "   [2] Agriculture (Document: 1, 2): Covers agricultural development, food security, and sustainable farming practices in Saudi Arabia and the UAE.\n",
      "   [2] Climate Change and Environment (Document: 1, 2): Discusses climate change impacts, environmental policies, and conservation efforts in Saudi Arabia and the UAE.\n",
      "Vision 2030 (Count: 0): Discusses Saudi Arabia's Vision 2030, focusing on economic diversification and sustainable development.\n",
      "Energy (Count: 0): Covers the energy sector, including oil, gas, and renewable energy initiatives in Saudi Arabia and the UAE.\n",
      "Water Resources (Count: 0): Discusses water scarcity, desalination, and water management strategies in Saudi Arabia.\n",
      "Agriculture (Count: 0): Covers agricultural development, food security, and sustainable farming practices in Saudi Arabia and the UAE.\n",
      "Climate Change and Environment (Count: 0): Discusses climate change impacts, environmental policies, and conservation efforts in Saudi Arabia and the UAE.\n",
      "--------------------------------------------------\n",
      "Current topic: [1] Governance\n"
     ]
    },
    {
     "name": "stderr",
     "output_type": "stream",
     "text": [
      " 83%|████████▎ | 10/12 [05:35<01:09, 34.87s/it]"
     ]
    },
    {
     "name": "stdout",
     "output_type": "stream",
     "text": [
      "Subtopics: [1] Governance\n",
      "    [2] Federal Structure (Document: 1): Discusses the federal governance system of the UAE, including the roles of the Federal Supreme Council, Federal National Council, and the Cabinet.\n",
      "    [2] Climate Policy Governance (Document: 1): Covers the UAE's approach to climate policies through a comprehensive governance framework, including the UAE Council on Climate Action and the National Climate Change Plan.\n",
      "    [2] Local Government Structures (Document: 1): Describes the variations in local government structures across the seven emirates, including executive councils and autonomous agencies.\n",
      "    [2] Ministries and Their Roles (Document: 1): Details the functions and responsibilities of various UAE ministries, such as the Ministry of Defence, Ministry of Finance, and Ministry of Climate Change and Environment.\n",
      "Federal Structure (Count: 0): Discusses the federal governance system of the UAE, including the roles of the Federal Supreme Council, Federal National Council, and the Cabinet.\n",
      "Climate Policy Governance (Count: 0): Covers the UAE's approach to climate policies through a comprehensive governance framework, including the UAE Council on Climate Action and the National Climate Change Plan.\n",
      "Local Government Structures (Count: 0): Describes the variations in local government structures across the seven emirates, including executive councils and autonomous agencies.\n",
      "Ministries and Their Roles (Count: 0): Details the functions and responsibilities of various UAE ministries, such as the Ministry of Defence, Ministry of Finance, and Ministry of Climate Change and Environment.\n",
      "--------------------------------------------------\n",
      "Current topic: [1] Environment\n"
     ]
    },
    {
     "name": "stderr",
     "output_type": "stream",
     "text": [
      " 92%|█████████▏| 11/12 [06:02<00:32, 32.44s/it]"
     ]
    },
    {
     "name": "stdout",
     "output_type": "stream",
     "text": [
      "Subtopics: [1] Environment\n",
      "   [2] Climate Change (Document: 1): Discusses the UAE's strategies and initiatives to address climate change, including the National Climate Change Plan and the Net Zero by 2050 Strategic Initiative.\n",
      "   [2] Biodiversity Conservation (Document: 1): Covers the UAE's efforts in conserving biodiversity, including federal laws, international commitments, and specific projects like the National Red List Project and mangrove rehabilitation.\n",
      "   [2] Sustainable Agriculture (Document: 1): Describes the UAE's initiatives to promote sustainable agricultural practices, including Ag Tech Accelerators, hydroponics, and the Food Tech Valley project.\n",
      "Climate Change (Count: 0): Discusses the UAE's strategies and initiatives to address climate change, including the National Climate Change Plan and the Net Zero by 2050 Strategic Initiative.\n",
      "Biodiversity Conservation (Count: 0): Covers the UAE's efforts in conserving biodiversity, including federal laws, international commitments, and specific projects like the National Red List Project and mangrove rehabilitation.\n",
      "Sustainable Agriculture (Count: 0): Describes the UAE's initiatives to promote sustainable agricultural practices, including Ag Tech Accelerators, hydroponics, and the Food Tech Valley project.\n",
      "--------------------------------------------------\n",
      "Current topic: [1] Economy\n"
     ]
    },
    {
     "name": "stderr",
     "output_type": "stream",
     "text": [
      "100%|██████████| 12/12 [06:28<00:00, 32.41s/it]"
     ]
    },
    {
     "name": "stdout",
     "output_type": "stream",
     "text": [
      "Subtopics: [1] Economy\n",
      "   [2] Governance (Document: 1): Discusses the governance structure and political framework of the UAE, including federal and emirate-level policies and initiatives.\n",
      "   [2] Climate Change and Environment (Document: 1): Covers the UAE's strategies and initiatives for addressing climate change, environmental protection, and sustainability.\n",
      "   [2] Energy (Document: 1): Focuses on the UAE's energy sector, including diversification efforts, renewable energy initiatives, and energy security.\n",
      "   [2] Agriculture (Document: 1): Describes the UAE's agricultural sector, including sustainable practices, technological advancements, and food security initiatives.\n",
      "Governance (Count: 0): Discusses the governance structure and political framework of the UAE, including federal and emirate-level policies and initiatives.\n",
      "Climate Change and Environment (Count: 0): Covers the UAE's strategies and initiatives for addressing climate change, environmental protection, and sustainability.\n",
      "Energy (Count: 0): Focuses on the UAE's energy sector, including diversification efforts, renewable energy initiatives, and energy security.\n",
      "Agriculture (Count: 0): Describes the UAE's agricultural sector, including sustainable practices, technological advancements, and food security initiatives.\n",
      "--------------------------------------------------\n"
     ]
    },
    {
     "name": "stderr",
     "output_type": "stream",
     "text": [
      "\n"
     ]
    }
   ],
   "source": [
    "# Optional: Generate subtopics\n",
    "if config[\"generate_subtopics\"]:\n",
    "    generate_topic_lvl2(\n",
    "        \"openai\",\n",
    "        \"gpt-4o\",\n",
    "        config[\"generation\"][\"topic_output\"],\n",
    "        config[\"generation\"][\"output\"],\n",
    "        config[\"generation_2\"][\"prompt\"],\n",
    "        config[\"generation_2\"][\"output\"],\n",
    "        config[\"generation_2\"][\"topic_output\"],\n",
    "        verbose=config[\"verbose\"],\n",
    "    )"
   ]
  },
  {
   "cell_type": "code",
   "execution_count": 8,
   "metadata": {},
   "outputs": [
    {
     "name": "stdout",
     "output_type": "stream",
     "text": [
      "-------------------\n",
      "Initializing topic assignment...\n",
      "Model: gpt-4o-mini\n",
      "Data file: true_inputs/run4.jsonl\n",
      "Prompt file: prompt/assignment.txt\n",
      "Output file: true_outputs/1/assignment_2_4.jsonl\n",
      "Topic file: true_outputs/1/generation_2_4.md\n",
      "-------------------\n"
     ]
    },
    {
     "name": "stderr",
     "output_type": "stream",
     "text": [
      " 50%|█████     | 1/2 [00:06<00:06,  6.16s/it]"
     ]
    },
    {
     "name": "stdout",
     "output_type": "stream",
     "text": [
      "Prompt token usage: 10632 ~$0.053160000000000006\n",
      "Response token usage: 476 ~$0.0071400000000000005\n",
      "Response: [2] Economic Development: The document discusses Saudi Vision 2030, which aims to diversify the economy and includes various development initiatives. \"The main goal of Vision 2030 is 'to raise the share of non-oil exports in non-oil GDP from 16% to 50%.'\"\n",
      "\n",
      "[2] Industrial Development: The document mentions the development of industrial zones and economic cities as part of economic diversification efforts. \"The Kingdom of Saudi Arabia has been developing a number of industrial zones and economic cities to achieve economic development and diversification of the economy.\"\n",
      "\n",
      "[2] Water Resources: The document addresses the management and use of water resources, including groundwater and desalination, which are crucial for agriculture and overall sustainability. \"The Kingdom of Saudi Arabia is one of the world’s most water scarce country with an average rainfall of approximately 100-150 mm/year.\"\n",
      "\n",
      "[2] Agriculture: The document highlights the challenges and initiatives in the agricultural sector, including sustainable practices and food security. \"Sustainable food security is a top priority... Saudi Arabia has large projects in the field of date palm, poultry, dairy products and aquaculture.\" \n",
      "\n",
      "[2] Climate Change and Environment: The document discusses the impacts of climate change on various sectors, including agriculture and water resources. \"The Kingdom of Saudi Arabia is particularly vulnerable to the impacts of climate change owing to the acute and severe climatic conditions.\" \n",
      "\n",
      "[2] Climate Change Adaptation: The document outlines strategies and initiatives aimed at adapting to climate change impacts, particularly in relation to water resources and agriculture. \"The National Water Strategy 2030... aims at; 'A sustainable water sector, safeguarding the natural resources and the environment of the Kingdom.'\" \n",
      "\n",
      "[2] Tourism: The document emphasizes the importance of tourism in economic diversification and the development of mega projects to attract tourists. \"The tourism sector in Saudi Arabia is considered to be one of the important sectors for successful and sustainable growth while focusing on the economic diversification objectives of the Saudi Vision 2030.\" \n",
      "\n",
      "[2] Vision 2030: The document explicitly discusses Saudi Vision 2030 as a framework for economic and social reforms. \"The government of Saudi Arabia announced 'Saudi Vision 2030', the economic blueprint of the Kingdom of Saudi Arabia in April 2016, with the objective of diversifying the Kingdom’s economy to become more sustainable and resilient.\"\n",
      "--------------------\n"
     ]
    },
    {
     "name": "stderr",
     "output_type": "stream",
     "text": [
      "100%|██████████| 2/2 [00:11<00:00,  5.64s/it]"
     ]
    },
    {
     "name": "stdout",
     "output_type": "stream",
     "text": [
      "Prompt token usage: 14552 ~$0.07276\n",
      "Response token usage: 353 ~$0.005295\n",
      "Response: [2] Climate Change Mitigation: The document discusses the UAE's commitment to addressing climate change through various strategies and initiatives, including the development of the UAE Net Zero strategy and the National Climate Change Plan. (\"In 2017, the UAE introduced the National Climate Change Plan 2017-2050, which serves as a blueprint for managing GHG emissions, climate adaptation strategies, and promoting economic diversification through innovation in the private sector.\")\n",
      "\n",
      "[2] Climate Change Adaptation: The document highlights the UAE's actions to adapt to the effects of climate change, including the establishment of the UAE Council on Climate Action and various policies aimed at enhancing resilience. (\"The UAE has demonstrated its commitment to addressing climate change and adapting to its effects through a series of decisive actions.\")\n",
      "\n",
      "[2] Economic Development and Diversification: The document outlines the UAE's economic growth and diversification efforts, particularly in relation to its transition to a low-carbon economy and the promotion of sustainable practices. (\"Despite this pace of growth, the UAE remains committed to achieving absolute GHG emissions reductions, aiming to decouple its economic growth from GHG emissions.\")\n",
      "\n",
      "[2] Sustainable Agriculture Practices: The document discusses the UAE's initiatives to promote sustainable agricultural practices, including the adoption of hydroponics and organic farming, which are crucial for enhancing food security. (\"The UAE’s Ministry of Climate Change and Environment prioritizes the adoption of hydroponic technology among farmers, which involves growing plants with nutrient-rich water and minimal or no soil.\")\n",
      "\n",
      "[2] Water Resources: The document addresses the management of water resources in the UAE, particularly in the context of agriculture and sustainability. (\"To address water resource preservation, there has been a strong focus on promoting the adoption of modern irrigation systems and promote drought tolerant crops.\")\n",
      "--------------------\n"
     ]
    },
    {
     "name": "stderr",
     "output_type": "stream",
     "text": [
      "\n"
     ]
    }
   ],
   "source": [
    "# Assignment\n",
    "assign_topics(\n",
    "    \"openai\",\n",
    "    \"gpt-4o-mini\",\n",
    "    config[\"data_sample\"],\n",
    "    config[\"assignment\"][\"prompt\"],\n",
    "    config[\"assignment\"][\"output\"],\n",
    "    config[\"generation_2\"][\n",
    "        \"topic_output\"\n",
    "    ],  # TODO: change to generation_2 if you have subtopics, or config['refinement']['topic_output'] if you refined topics\n",
    "    verbose=config[\"verbose\"],\n",
    ")"
   ]
  },
  {
   "cell_type": "code",
   "execution_count": 12,
   "metadata": {},
   "outputs": [
    {
     "name": "stdout",
     "output_type": "stream",
     "text": [
      "Final prompt sent to API Agent:\n",
      "As a climate scientist and specialized Q&A bot with expertise in climate change, climate science, environmental science, physics, and energy science, your primary objective is: \n",
      "1. Provide an accurate and comprehensive comparison from the two documents inputted by the user.  \n",
      "2. Provide detailed discussions on both similarities of the points, and differences, additionally discuss when only one topic appears in one document only \n",
      "3. In cases where sufficient information is lacking to address the comparison, reply with ’There is not enough info to answer the question.’ \n",
      "4. It’s imperative to maintain accuracy and refrain from creating information. If any aspect is unclear, do not create answers about that aspect.\n",
      "\n",
      "[Instructions]\n",
      "Here is two documents, as well as key discussion points, provide a comparison:\n",
      "\n",
      "[Document]\n",
      "Document 1:\n",
      "Text: ,Introduction,Climate change adaptation holds equal significance to mitigation in the UAE, given that the,country is susceptible to climate change consequences that resemble those experienced by other,countries in the region. These potential effects encompass alterations in meteorological patterns,,elevated temperatures in both air and seawater, rising sea levels, and an escalation in extreme,weather occurrences. The UAE occupies a coastal region characterized by extreme aridity, where,the average annual rainfall is less than 100 mm, and water resources are scarce. During the,summer months, the temperature and humidity levels soar, with peak temperatures exceeding,49°C and humidity levels approaching 100% on exceptionally humid days.,Consequently, the projected effects of climate change will impact the UAE directly and indirectly,,touching upon its economy, environment, and societal well-being. These anticipated adverse,effects will ripple through marine and terrestrial ecosystems, agricultural productivity, and the,accessibility of water resources. Moreover, the rising sea levels pose a potential threat to vital,UAE infrastructure, including desalination and power facilities, as well as habitats situated along,coastal areas bordering the Arabian Gulf or the Gulf of Oman.,Considering the anticipated climate change,challenges, the UAE is actively rolling out a,comprehensive set of policies and initiatives at,both the national and local levels. These efforts,are aimed at enhancing resilience to climate,change and mitigating its impacts, with some,initiatives yielding co-benefits for mitigation.,The decision-making process is grounded in,extensive stakeholder engagement, which,includes private sector participation, and is,guided by the latest scientific research, to,effectively bridge the gap between science and,policy.,Moving forward, the National Climate Change,Plan will entail the development of in-depth,adaptation strategies for various key sectors,,aiming to minimize vulnerabilities and bolster,the UAE’s capacity to adapt. The National,Climate Change Plan focuses on three key,objectives (i) manage GHG emissions, (ii) build,climate resilience by managing risk and,building adaptive capacity; (iii) advance UAE’s,economic diversification agenda through,innovative solutions. Noting that National GHG,emission management systems, national,adaptation planning and management, and,private sector-based innovative diversification,programs are key climate priorities of the,country.,In line with National Climate Change Plan in,2017, MOCCAE established National Climate,Change Adaptation Program in 2018. Acquiring,an enhanced understanding of climate impacts,,prioritizing high risks, and identifying,adaptation options. Under this program,,MOCCAE conducted climate change risk,assessments for the priority sectors in 2019,and planning implementable adaptation,strategies from there onwards. Followed by,mainstreaming adaptation strategies in 2025,and conducting monitoring and evaluation to,ensure evidence-based adaptation in 2030-,2050.,MOCCAE published Risk assessment reports,in 2019 for priority sectors: Public Health,,Energy, Infrastructure, Environment, and,Insurance sector newly added (in 2021-22).,For each sector, actionable adaptation plans,are currently in the process of development at,the emirate level, aligning with the,requirements of the National Adaptation Plan,(NAP). These plans are designed to effectively,address the high-priority risks that have,previously been identified. The overarching,goal of the NAP is to emphasize, integrate,,execute, and oversee adaptation strategies,across various sectors, involving all relevant,stakeholders within both governmental and,non-governmental domains. These plans will,encompass detailed information regarding,specific actions, the responsible leaders and,supporting participants, timelines, metrics for,monitoring and evaluation, as well as,preliminary cost estimates and anticipated,impacts. This comprehensive approach is,intended to mainstream climate change,adaptation and bolster resilience within sector-,specific development strategies while,identifying crucial projects and action plans for,funding. Through the NAP, the UAE is,proactively enhancing its capacity to adapt to,the challenges of climate change by,pinpointing both short-term and long-term,priority adaptation measures.,Methodology Adopted for Climate Risk,Assessment,The methodology used to carry out climate risk,assessment adopted the guiding formula for,calculating “risk based on the magnitude and,likelihood of the climate impacts”. The 5 Step,approach is adopted which includes stock-,taking, identifying potential impacts, evaluating,impacts, assessing, and prioritizing risks, and,identifying adaptation measures together with,stakeholder consultation and monitoring and,reviewing mechanisms.,\n",
      "\n",
      "\n",
      "Topics: [2] Climate Change Adaptation: The document discusses the importance of adaptation strategies in the UAE to address the impacts of climate change, highlighting the development of policies and initiatives aimed at enhancing resilience. (Supporting quote: \"Considering the anticipated climate change challenges, the UAE is actively rolling out a comprehensive set of policies and initiatives at both the national and local levels. These efforts are aimed at enhancing resilience to climate change and mitigating its impacts...\") \n",
      "\n",
      "[2] Climate Change Mitigation: The document also mentions managing greenhouse gas emissions as part of the UAE's climate strategy, indicating efforts to mitigate climate change. (Supporting quote: \"The National Climate Change Plan focuses on three key objectives (i) manage GHG emissions...\")\n",
      "\n",
      "Document 2:\n",
      "Text: ,As a small, low-lying island city-state, Singapore is highly vulnerable,to the impacts of climate change. Singapore is also one of the,most densely populated countries in the world. It is thus important,for Singapore to prepare for and adapt early to climate change.,Effects of Climate Change,The IPCC Working Group I Report for the AR6,cycle has warned us that the global climate will,change significantly unless rapid and drastic,reductions in emissions are taken. Global,temperatures are projected to very likely rise by,1.0–5.7 °C by the end of the century from pre-,industrial levels, while global mean sea levels are,likely expected to increase by 0.28 m to 1.01 m,over the same period, relative to 1995–2014 sea,levels. Extreme weather events (such as heavy,rainfall) over the region are also projected to be,more intense and frequent. The IPCC Working,Group II Report further cautions that widespread,climate impacts are already being felt across the,world, with some of these effects irreversibly and,disproportionately affecting vulnerable countries,,notably small island developing states (SIDS).,The window for securing a liveable future is,rapidly closing.,The Centre for Climate Research Singapore,(CCRS), in partnership with the UK,Meteorological Office, concluded Singapore’s,Second National Climate Change Study (V2) in,2015, which made use of data and scenarios from,the IPCC’s Fifth Assessment Report (AR5) to,examine the long-term effects of climate change,in Singapore. The study found that by 2100, the,mean sea level around Singapore could rise,by up to a metre and mean temperatures could,increase by up to 4.6 °C. The CCRS has embarked,on the Third National Climate Change Study (V3),to provide updated climate projections by 2023,,which will incorporate the latest findings from,IPCC AR6.,Preparing Singapore for the Impact of,Climate Change,The impacts of climate change are already being,felt in Singapore. 2012 to 2021 was Singapore’s,warmest decade since Singapore began local,temperature recordings in 1929. In 2021, Singapore,also experienced record rainfalls in January, April,and August, leading to flash floods in various parts,of Singapore. Sea levels around the island rose by,14 cm from 1979 to 2019.,Even with international efforts to limit the rise in,global temperatures, there is a need to prepare,Singapore for the impacts of climate change. Some,adaptation measures require longer lead times,to implement and have to be undertaken early.,Adaptation plans must also be adaptive to climate,uncertainties and evolving climate science.,To coordinate such efforts, a multi-agency,Resilience Working Group (RWG), led by the,Ministry of Sustainability and the Environment,(MSE) and the Ministry of National Development,(MND), was set up in 2010 under the IMCCC. The,RWG assesses Singapore’s physical vulnerabilities,to climate change based on a Resilience,Framework, which guides the formulation of,adaptation plans up to 2100 (see the next page for,Singapore’s Resilience Framework),The RWG comprises 20 agencies which oversee,key sectoral risks and efforts in enhancing,Singapore’s adaptive capacity, strengthening,resilience capabilities, and reducing vulnerability,to climate change. The inter-agency effort ensures,that adaptation plans are coordinated across the,Government. The agencies involved are:,○ Building and Construction Authority (BCA);,○ Civil Aviation Authority of Singapore (CAAS);,○ Centre for Liveable Cities (CLC);,○ Energy Market Authority (EMA);,○ Housing & Development Board (HDB);,○ Info-comm Media Development Authority,(IMDA);,○ JTC Corporation (JTC);,○ Land Transport Authority (LTA);,○ Maritime and Port Authority of Singapore,(MPA);,○ Ministry of Finance (MOF);,○ Ministry of Health (MOH);,○ Ministry of National Development (MND);,○ Ministry of Sustainability and the Environment,(MSE);,○ National Environment Agency (NEA);,○ National Parks Board (NParks);,○ Prime Minister’s Office - Strategy Group,,National Climate Change Secretariat,(PMO-SG/NCCS);,○ PUB, Singapore’s National Water Agency;,○ Singapore Food Agency (SFA);,○ Singapore Land Authority (SLA); and,○ Urban Redevelopment Authority (URA),RWG has identified six key adaptation risk areas,for Singapore.,\n",
      "\n",
      "\n",
      "Topics: [2] Climate Change Adaptation: The document discusses the need for Singapore to prepare for and adapt to the impacts of climate change, highlighting the establishment of a multi-agency Resilience Working Group to coordinate adaptation efforts. (Supporting quote: \"Even with international efforts to limit the rise in global temperatures, there is a need to prepare Singapore for the impacts of climate change. Some adaptation measures require longer lead times to implement and have to be undertaken early.\")\n",
      "\n",
      "Your response:\n",
      "\n",
      "Prompt token usage: 2325 ~$0.011625\n",
      "Response token usage: 555 ~$0.008325\n",
      "Generated Comparison:\n",
      "**Comparison of Climate Change Adaptation and Mitigation Strategies in the UAE and Singapore**\n",
      "\n",
      "**Similarities:**\n",
      "\n",
      "1. **Climate Change Adaptation:**\n",
      "   - Both the UAE and Singapore recognize the importance of climate change adaptation due to their vulnerability to climate impacts. The UAE is focusing on enhancing resilience through national and local policies, while Singapore has established a multi-agency Resilience Working Group to coordinate adaptation efforts.\n",
      "   - Both countries emphasize the need for early preparation and long-term planning to address climate change impacts. The UAE is developing in-depth adaptation strategies for key sectors, and Singapore is formulating adaptation plans up to 2100.\n",
      "\n",
      "2. **Stakeholder Involvement:**\n",
      "   - Both documents highlight the involvement of multiple stakeholders in the adaptation process. The UAE involves private sector participation and extensive stakeholder engagement, while Singapore's Resilience Working Group includes 20 agencies overseeing various sectoral risks.\n",
      "\n",
      "**Differences:**\n",
      "\n",
      "1. **Geographical and Climatic Context:**\n",
      "   - The UAE is characterized by extreme aridity, with very low annual rainfall and high temperatures, which directly influence its adaptation strategies. In contrast, Singapore, as a low-lying island city-state, faces challenges such as rising sea levels and increased rainfall, leading to flash floods.\n",
      "\n",
      "2. **Specific Adaptation Measures:**\n",
      "   - The UAE's adaptation strategies include risk assessments for sectors like public health, energy, and infrastructure, with plans to mainstream these strategies by 2025. Singapore, on the other hand, has identified six key adaptation risk areas and is using a Resilience Framework to guide its adaptation plans.\n",
      "\n",
      "3. **Climate Change Mitigation:**\n",
      "   - The UAE document explicitly mentions climate change mitigation as part of its strategy, focusing on managing greenhouse gas emissions and advancing economic diversification. The Singapore document does not explicitly discuss mitigation efforts, focusing instead on adaptation.\n",
      "\n",
      "**Unique Points:**\n",
      "\n",
      "- **UAE:**\n",
      "  - The UAE's National Climate Change Plan includes objectives to manage GHG emissions and advance economic diversification, which are not mentioned in the Singapore document.\n",
      "  - The UAE has a specific timeline for mainstreaming adaptation strategies and conducting monitoring and evaluation from 2030 to 2050.\n",
      "\n",
      "- **Singapore:**\n",
      "  - Singapore's adaptation efforts are coordinated through a Resilience Working Group, which is a structured inter-agency collaboration not mentioned in the UAE document.\n",
      "  - Singapore's adaptation plans are informed by national climate change studies and projections, such as the Second and Third National Climate Change Studies.\n",
      "\n",
      "In summary, while both the UAE and Singapore are actively working on climate change adaptation, their strategies are shaped by their unique geographical and climatic contexts. The UAE also incorporates mitigation into its climate strategy, whereas Singapore's document focuses more on adaptation coordination and planning.\n",
      "Comparison output saved to comparisons/3.jsonl\n"
     ]
    }
   ],
   "source": [
    "# Optional: Generate comparisons\n",
    "if config[\"generate_comparison\"]:\n",
    "    comparison(\n",
    "        \"openai\",\n",
    "        \"gpt-4o\",\n",
    "        config[\"assignment\"][\"output\"],\n",
    "        config[\"comparison\"][\"prompt\"],\n",
    "        config[\"comparison\"][\"output\"],\n",
    "    )"
   ]
  },
  {
   "cell_type": "code",
   "execution_count": 22,
   "metadata": {},
   "outputs": [
    {
     "name": "stdout",
     "output_type": "stream",
     "text": [
      "Final prompt sent to API Agent:\n",
      "[Instructions]\n",
      "Here are two documents. Provide a comparison:\n",
      "\n",
      "[Document]\n",
      "Document 1:\n",
      "Text: ,The window for decisive international action,on climate change is narrowing. The recently,completed Intergovernmental Panel on Climate,Change (IPCC) Sixth Assessment Report (AR6),cycle concluded that the effects of climate change,are widespread, rapid and intensifying.,As a low-lying island city-state, climate change,is an existential threat for Singapore. While,we account for only 0.1% of global emissions,,Singapore has taken important steps to contribute,to the global effort to tackle climate change and is,continually working to overcome our constraints to,raise our climate ambition.,At the Copenhagen Conference in 2009, Singapore,pledged to reduce emissions by 16% below our,business-as-usual (BAU) level in 2020. We are,happy to announce that Singapore has achieved,this target. This was achieved through sustained,efforts in improving energy efficiency across,various sectors of our economy, including an,early switch from fuel oil to natural gas for power,generation, among many other environmentally,friendly measures. Yet, more work needs to be,done. According to AR6 by the IPCC, the world,needs to achieve net zero by around 2050 in order,to limit global warming to 1.5 °C.,In October 2022, Singapore announced that it,will enhance its climate pledge by committing to,achieve net zero emissions by 2050, contingent on,technological maturity and effective international,cooperation. Our ability to fulfil our pledges, like all,Parties, will depend on the continued international,commitment by Parties to the Paris Agreement and,their climate pledges.,We also announced that we will enhance our,2030 Nationally Determined Contribution (NDC),to reduce emissions to around 60 MtCO2e in,2030 after peaking emissions earlier. With this,enhanced ambition, we have further aligned,our long-term emissions trajectory with the,Paris Agreement.,This is a significant and ambitious commitment,for Singapore, a country that has limited potential,for alternative energy sources. Our climate,commitments are backed by concrete strategies,,policies and actions, starting from this current,crucial decade. A key measure we are taking is,to raise our domestic carbon tax progressively,from the current S$5 per tonne to around S$50 to,S$80 per tonne 3 by 2030. We have also launched a,comprehensive Singapore Green Plan 2030 (Green,Plan), to make a collective whole-of-nation effort,to achieve our sustainability and climate goals. The,Green Plan is a living plan which will continue to,evolve as technology develops and we review our,strategies over time.,Singapore’s decisive shift to net zero will require,significant transformation in all aspects of daily life,,economy, and society. There will be costs to bear,and trade-offs to be made. At the same time, it will,reposition Singapore and bring about a cleaner,,greener world for our future generations.,Singapore’s Fifth National Communication –,which includes our first Adaptation Communication,– and Fifth Biennial Update Report highlight the,measures that we have taken as a nation to address,climate change and our commitment to meet our,2020 emissions reduction pledge,Singapore continues to build on a long-standing,,comprehensive national approach that seeks,to achieve sustainable growth alongside,environmental protection. This has allowed us,to limit our growth in emissions and stay on,track to achieve our international commitments,,notwithstanding our geographical constraints.,National Circumstances,Singapore is a small, low-lying, island city-state,vulnerable to the effects of climate change.,With a total land area (including that of smaller,surrounding islands) of about 733.1 km2,,Singapore’s population density of about 7,485,persons per km2 is one of the highest in the world.,Due to Singapore’s small size and dense urban,landscape, there are challenges to using alternative,energy sources such as solar, nuclear and wind,energy. These difficulties in transitioning to,alternative energy sources are recognised by the,UNFCCC. Solar remains the most viable source,of renewable energy in Singapore, and we aim,to accelerate the deployment of solar energy,despite challenges arising from our national,circumstances.,Institutional Arrangements,Climate change is an issue with many dimensions,that cut across the responsibilities of several,ministries. The IMCCC, chaired by Mr Teo Chee,Hean, Senior Minister and Coordinating Minister,for National Security, oversees the whole-of-,government (WOG) coordination on climate,change policies. The National Climate Change,Secretariat (NCCS) is a dedicated unit under the,Prime Minister’s Office (PMO) Strategy Group that,serves as the secretariat to the IMCCC.,Greenhouse Gas (GHG) Inventory,Singapore’s GHG emissions for 2018 totalled,53,312.68 gigagram (Gg) CO2 equivalent. Carbon,dioxide (CO2) accounted for 94.3% of total,EXECUTIVE SUMMARY,emissions. Non-CO2 gases such as methane,(CH4), nitrous oxide (N2O), perfluorocarbons,(PFCs), hydrofluorocarbons (HFCs), sulphur,hexafluoride (SF6) and nitrogen trifluoride,(NF3) accounted for the remaining 5.7% of,total emissions. This excludes an estimate of,HFCs emissions from the refrigeration and air,conditioning (RAC) sector, for which we are in the,process of finalising.,Mitigation Measures,Singapore has achieved our Copenhagen pledge,to reduce our emissions by 16% below our BAU,level in 2020.,A key pillar of Singapore’s strategy to mitigate,GHG emissions is to improve energy efficiency,across different sectors of the economy.,Singapore does not subsidise energy costs,,and has taken steps to use a cleaner fuel mix for,electricity generation, switching from fuel oil to,natural gas. However, there are limits to how much,more emissions can be reduced by switching,fuels, as natural gas, the cleanest fossil fuel,,already constitutes about 95% of our fuel mix for,electricity generation. To further decarbonise the,power sector, we will harness and tap on the “Four,Switches”: natural gas, solar, regional power grids,,and emerging low-carbon technologies.,Singapore will continue to push ahead with,mitigation efforts in the different sectors as part,of the Green Plan, which is a whole-of-nation,movement to advance Singapore’s national,agenda on sustainable development.,In addition, Singapore has implemented a carbon,tax of S$5 or US$3.70 per tonne of CO2 equivalent,(tCO2 eq) of GHG emissions in the first instance,,between 2019 and 2023, as a transition period.,The carbon tax will be increased to S$25 or,US$18.40/tCO2 eq in 2024 and 2025, and S$45 or,US$33.20/tCO2 eq in 2026 and 2027, with a view to,reaching S$50–80 or US$36.90–59.00/tCO2 eq by,2030. The carbon tax will complement our existing,mitigation efforts to meet our climate pledge under,the Paris Agreement.,Vulnerability and Adaptation Measures,As a relatively low-lying, densely populated island,in the tropics, Singapore is naturally vulnerable to,the impacts of climate change. Singapore takes,a proactive, long-term approach towards climate,change adaptation. Climate change resilience goes,beyond physical adaptation, and must include,building resilient mindsets as well as collective,action to safeguard our environment. Additionally,,our trade-dependent economy increases our,exposure and vulnerability to the volatilities,induced by climate change. Climate resilience and,adaptation plans will be continuously reviewed and,adjusted as new knowledge and information on the,effects of climate change become available.,Concluding Remarks,Singapore remains committed to doing our part,in this global crisis. We will advance on this,sustainability journey together as a nation, making,a decisive move to achieve net zero by 2050 and,at the same time building up our climate resilience,and adaptation. As a responsible member of the,global community, Singapore will continue to work,at the international, regional and bilateral levels,to support collective global efforts to address the,challenges of climate change.,\n",
      "\n",
      "\n",
      "Document 2:\n",
      "Text: ,Saudi Arabia is an arid country characterized by low rainfall, high temperatures and limited,water resources. There are no perennial rivers in the country. The main water resources in the,country are surface water runoff, shallow and deep groundwater, desalinated seawater and,wastewater. surface water is limited to rainfall runoff flowing through valleys. Saudi Arabia,consists of a variety of habitats which includes deserts, plains, plateaus, mountains and lava,flows. The three major bodies of sand in the Kingdom are the Great Nafud in the north, the,Empty Quarter in the south and Ad-Dahna; a crescent-shaped body of sand connecting Nafud,and Rub Al-Khali deserts.,The Kingdom is one of the world's largest oil exporters, with a single-source economy heavily,reliant on oil income. The Kingdom's primary development agenda, the Saudi Vision 2030,,was announced in 2016. This development strategy serves as the main vehicle for diversifying,the Kingdom's economy away from reliance on a single source of revenue. For the realization,and achievement of the 96 strategic objectives of Saudi Vision 2030, 13 Vision Realization,Programs (VRPs) have been established by the Council of Economic and Development Affairs,(CEDA). The VRPs aim to develop a diversified economy encompassing all sectors to ensure,homogeneous development. The Financial Sector Development Program has the goal of,advancing the financial sector of the Kingdom through support provided to the private sector,,formation of a state-of-the-art capital market and enabling the diversification of the sources of,income and investment. The National Transformation Program (NTP) intends to improve,living standards for all in the Kingdom through increasing the ease of access to healthcare and,promoting a sustainable approach towards national resources such as food security and access,to water. The National Companies Promotion Program is dedicated to promoting 100+ local,and regional companies to become global leaders, thereby displaying the economic strength of,the Kingdom on the global platform. Through the Fiscal Balance Program, the Kingdom is,pursuing its goals of maximizing oil and non-oil revenues through improved efficiency and,risk management and mitigation strategies. VRPs are essential to realizing the objectives of,Saudi Vision 2030 and ensuring that the Kingdom stays firm upon its path to sustainable,development and diversification of its economy. An impressive progress has been reflected for,different programs under the Vision Realization Programs in the Vision progress report for the,period 2016-2020.,Saudi Vision 2030 provides a roadmap towards achieving sustainable development through,social and economic reforms. The roadmap focuses on the development of service sectors like,health, education, infrastructure and tourism and therefore increasing employment,opportunities and diversifying the economy. Furthermore, despite the major health and,economic crisis arising owing to the novel coronavirus pandemic (COVID 19), the Kingdom,is committed to its economic diversification initiatives with the continued sustainable,development agenda. The Kingdom has embarked upon the mega projects namely NEOM,,AMAALA, AL-ULA, Qiddiya, Red Sea Project and Prince Mohammad bin Salman Nature,Reserve.,Saudi Arabia, due to its arid environment and sensitive ecosystem is vulnerable to bio-physical,impacts of climate change. The socioeconomic impacts of climate change response measures by other countries also make Saudi Arabia vulnerable to climate change due to its reliance,mainly on single source.,Saudi Arabia has launched two green initiatives in 2021 namely Saudi Green Initiative (SGI),and Middle East Green Initiative (MGI) under the patronage of HRH Prince Mohammed bin,Salman bin Abdulaziz, the Crown Prince, Deputy Prime Minister, Minister of Defense and,Chairman of the Saudi Council of Economic and Development Affairs.,The Kingdom of Saudi Arabia submitted its Updated Nationally Determined Contribution,(NDC) to the UNFCCC Secretariat in October 2021. The updated NDC is aimed to remove,,avoid and reduce GHG emissions by 278 million tons of CO2 eq by 2030 which is more than,two-fold increase compared to the Kingdom’s previous INDC submitted in November 2015.,The updated NDC show a progression and highest possible ambition. These NDC are based on,the principles listed in Article 3 of UNFCCC and Articles 4.1, 4.7 and 4.15 of the Paris,Agreement and Conference of Parties Decisions 1/CP.19, 1CP.20, 1/CP.21 and 1/CP.24 and,the approach specified in the economic diversification initiative adopted as the Conference of,Parties Decision 24/CP.18 in 2012 in Doha.,The Saudi Arabian NDC are based on the Dynamic baseline approach, taking into,consideration country’s national circumstances.,The dynamic baseline scenarios are based on the ability of the Kingdom to grow and diversify,its economy, keeping in mind that the Kingdom is not seeking financial support towards,achieving its NDC. The achievement of NDC is also incumbent upon sustainable economic,growth and diversification of the Kingdom’s economy, while preserving Kingdom’s leading,role in promoting security and stability of global energy markets. The Kingdom will use the,best suited technologies to achieve its NDC using Circular Carbon Economy (CCE) approach.,The Saudi Green Initiative (SGI) is a multidimensional initiative which contributes towards,achieving the climate ambitions of the Kingdom. The SGI roadmap consisted of over 60,initiatives. The roadmap includes reducing carbon emissions by implementing energy,efficiency programs, developing carbon capture, utilization and storage (CCUS) technology,,increasing public transportation and increasing renewable energy capacity. The five initiatives,which will help the Kingdom achieve its NDC under SGI are; enhance SEEP by 2025, use,captured carbon to produce chemicals and synthetic fuels by 2030, changing the energy mix,towards a more sustainable one by 2030, become the world’s leading hydrogen producer and,exporter by 2030 and waste management transformation in Riyadh by 2035. The other,initiatives under SGI are green Saudi Arabia initiative by planting 450 million trees all over,the Kingdom by 2030 and protecting land and sea by increasing the terrestrial and marine,protected areas to 20% of the Kingdom’s total area by 2030.,Saudi Arabia also announced the Middle East Green Initiative (MGI), a regional initiative to,lead and support regional efforts to achieve global climate ambitions, with a focus on actions,and cooperation to accomplish climate aspirations. These initiatives include:,(i) Encourage GCC and Middle Eastern countries to implement circular carbon economy,projects and activities to boost the usage of clean energy and reduce greenhouse gas,emissions in the region.,(ii) Establish a regional center for Carbon Capture, Utilization and Storage (CCUS) in,Arabian Gulf States (GCC countries and Iraq).,(iii) Support and facilitate access to clean energy for cooking in the middle east regions and,raising the health and lifespan of clean fuel users specially women and children and,reduce the GHG emissions.,(iv) Clean Oceans and Rivers Initiative by participating in the cleanup of oceans and rivers,of plastic waste in the middle east region.,The Kingdom is providing leadership in the area of circular carbon economy as a vehicle for,implementing its updated nationally determined contribution. Saudi Arabia adopted the,concept of the circular carbon economy as the framework for its climate policy. The CCE,embraces a technology-neutral approach that caters for all possible solutions without prejudice,to, or predisposition against, any single option. Circular carbon economy involves a stepwise,closure of the carbon cycle via utilization or conversion of CO2 generated from the combustion,of fossil fuels leading to significant reduction of carbon emissions. The CCE is based on four,R’s; reduce, reuse, recycle and remove for the management of carbon in the CCE. Within the,framework of circular carbon economy, three types of carbon have been identified namely the,‘Living Carbon’ which resides in the biosphere and it naturally balances with the atmosphere,and is the basis of life. The second is the ‘Durable Carbon’ which resides in the techno-sphere,and is used in a range of applications, from long-term infrastructure to recycled plastics. The,third is the Fugitive Carbon’ which is released into the environment as excess anthropogenic,carbon dioxide in the atmosphere or as plastics in the ocean. All the 4Rs of the circular carbon,economy serve to minimize fugitive carbon.,This report, the Fourth National Communication (NC4) of the Kingdom of Saudi Arabia has,been prepared by the Designated National Authority (DNA) in close cooperation and,coordination of relevant sector ministries, entities and other stakeholders. The report is,comprised of ten (10) sections namely:,(i) National Circumstances,(ii) 2016 National Inventory of Anthropogenic Emissions by Sources and Removals by,Sinks of Greenhouse Gases Not Controlled by the Montreal Protocol,(iii) Steps Taken to Address Article 12.1(b) of United Nations Framework Convention on,Climate Change (UNFCCC) - Role of Economic Diversification to Address Climate,Change Issues in Saudi Arabia,(iv) Analysis of Socioeconomic Impacts of Response Measures,(v) Vulnerability Assessment & Adaptation: Impact Analysis of Climate Change on Water,Resources and Identification and Appraisal of Appropriate Adaptation Measures,(vi) Vulnerability Assessment & Adaptation: Impact Analysis of Climate Change on,Coastal and Marine Ecosystem and Identification and Appraisal of Appropriate,Adaptation Measures,(vii) Vulnerability Assessment & Adaptation: Impact Analysis of Climate Change on,Desertification and Identification and Appraisal of Appropriate Adaptation Measures,(viii) Vulnerability Assessment & Adaptation: Impact Analysis of Climate Change on,Agriculture and Identification and Appraisal of Appropriate Adaptation Measures,(ix) Climate Change Research, Education, Training, Capacity Building and Public,Awareness,(x) Constraints and gaps and related financial, technical and capacity-building needs,\n",
      "\n",
      "\n",
      "\n",
      "\n",
      "Your response:\n",
      "Prompt token usage: 3859 ~$0.019295\n",
      "Response token usage: 604 ~$0.00906\n",
      "Generated Comparison:\n",
      "**Comparison of Climate Change Strategies: Singapore vs. Saudi Arabia**\n",
      "\n",
      "**Geographical and Environmental Context:**\n",
      "- **Singapore** is a small, low-lying island city-state with a dense urban landscape, making it vulnerable to climate change impacts such as rising sea levels. Its geographical constraints limit the use of alternative energy sources like solar, nuclear, and wind energy.\n",
      "- **Saudi Arabia** is an arid country with low rainfall, high temperatures, and limited water resources. It lacks perennial rivers and relies on surface water runoff, groundwater, desalinated seawater, and wastewater. The country is characterized by deserts and sand bodies, making it vulnerable to climate change impacts.\n",
      "\n",
      "**Economic Context and Climate Strategy:**\n",
      "- **Singapore** contributes only 0.1% of global emissions but has committed to ambitious climate goals, including achieving net zero emissions by 2050. The country focuses on improving energy efficiency, transitioning to cleaner fuels, and implementing a carbon tax. The Singapore Green Plan 2030 outlines a comprehensive strategy for sustainability and climate goals.\n",
      "- **Saudi Arabia** is heavily reliant on oil income and is pursuing economic diversification through the Saudi Vision 2030. The Kingdom aims to reduce GHG emissions by 278 million tons of CO2 eq by 2030, focusing on a Circular Carbon Economy (CCE) approach. The Saudi Green Initiative and Middle East Green Initiative are key components of its climate strategy.\n",
      "\n",
      "**Nationally Determined Contributions (NDCs):**\n",
      "- **Singapore** has enhanced its 2030 NDC to reduce emissions to around 60 MtCO2e, aligning with the Paris Agreement. The country emphasizes international cooperation and technological advancements to meet its climate goals.\n",
      "- **Saudi Arabia** submitted an updated NDC in 2021, aiming for a more than two-fold increase in emission reductions compared to its previous targets. The NDCs are based on a dynamic baseline approach, considering national circumstances and economic diversification.\n",
      "\n",
      "**Mitigation and Adaptation Measures:**\n",
      "- **Singapore** focuses on energy efficiency, a cleaner fuel mix, and a progressive carbon tax to mitigate emissions. Adaptation measures include building climate resilience and safeguarding the environment.\n",
      "- **Saudi Arabia** emphasizes the CCE approach, which includes reducing, reusing, recycling, and removing carbon. The Kingdom is investing in renewable energy, carbon capture, and public transportation to achieve its climate goals.\n",
      "\n",
      "**Institutional Arrangements:**\n",
      "- **Singapore** has a dedicated National Climate Change Secretariat under the Prime Minister’s Office, coordinating climate policies across ministries.\n",
      "- **Saudi Arabia** has established the Designated National Authority (DNA) to coordinate climate efforts, involving various sector ministries and stakeholders.\n",
      "\n",
      "**Conclusion:**\n",
      "Both Singapore and Saudi Arabia are committed to addressing climate change, albeit with different strategies reflecting their unique geographical and economic contexts. Singapore focuses on energy efficiency and carbon taxation, while Saudi Arabia emphasizes economic diversification and a circular carbon economy. Both countries recognize the importance of international cooperation and technological advancements in achieving their climate goals.\n",
      "Comparison output saved to baseline/2.jsonl\n"
     ]
    }
   ],
   "source": [
    "baseline(\n",
    "    \"openai\",\n",
    "    \"gpt-4o\",\n",
    "    config[\"assignment\"][\"output\"],\n",
    "    config[\"baseline\"][\"prompt\"],\n",
    "    config[\"baseline\"][\"output\"],\n",
    ")"
   ]
  },
  {
   "cell_type": "code",
   "execution_count": 23,
   "metadata": {},
   "outputs": [
    {
     "name": "stdout",
     "output_type": "stream",
     "text": [
      "Final prompt sent to API Agent:\n",
      "You are an expert evaluator. Two comparisons are provided below, each generated following specific instructions. Your task is to evaluate them based on accuracy, comprehensiveness, clarity, and adherence to the guidelines provided in the comparison prompt.\n",
      "\n",
      "Comparison One:\n",
      "Comparison 1:\n",
      " **Comparison of Climate Change Strategies: Singapore and Saudi Arabia**\n",
      "\n",
      "**1. Emissions Reduction:**\n",
      "\n",
      "- **Singapore:** Singapore has committed to achieving net zero emissions by 2050. The country has set specific targets, such as reducing emissions to around 60 MtCO2e by 2030, and has implemented a carbon tax to support these goals. Singapore's strategy includes improving energy efficiency and transitioning to cleaner energy sources, with a focus on solar energy.\n",
      "\n",
      "- **Saudi Arabia:** Saudi Arabia's updated Nationally Determined Contribution (NDC) aims to reduce greenhouse gas emissions by 278 million tons of CO2 equivalent by 2030. The Kingdom's approach includes the Circular Carbon Economy (CCE) framework, which focuses on reducing, reusing, recycling, and removing carbon emissions. Saudi Arabia is also investing in carbon capture, utilization, and storage (CCUS) technologies.\n",
      "\n",
      "**Similarities:** Both countries have set ambitious targets for emissions reduction and are implementing policies to achieve these goals. They are also focusing on technological advancements to support their emissions reduction strategies.\n",
      "\n",
      "**Differences:** Singapore's target is to achieve net zero by 2050, while Saudi Arabia's focus is on significant reductions by 2030. Singapore emphasizes a carbon tax and energy efficiency, whereas Saudi Arabia is leveraging the CCE framework and CCUS technologies.\n",
      "\n",
      "**2. Adaptation and Resilience:**\n",
      "\n",
      "- **Singapore:** Singapore takes a proactive approach to climate change adaptation, focusing on building resilience in infrastructure and society. The country recognizes its vulnerability as a low-lying island and is implementing long-term adaptation strategies.\n",
      "\n",
      "- **Saudi Arabia:** Saudi Arabia's adaptation measures include vulnerability assessments and strategies for water resources, coastal ecosystems, and agriculture. The Kingdom is addressing the impacts of climate change on its arid environment and sensitive ecosystems.\n",
      "\n",
      "**Similarities:** Both countries acknowledge their vulnerabilities to climate change and are implementing adaptation strategies to enhance resilience.\n",
      "\n",
      "**Differences:** Singapore's adaptation efforts are more focused on urban resilience and infrastructure, while Saudi Arabia's strategies are broader, addressing various ecosystems and sectors like agriculture and water resources.\n",
      "\n",
      "**3. Renewable Energy and Technology:**\n",
      "\n",
      "- **Singapore:** Singapore is focusing on solar energy as the most viable renewable energy source due to its geographical constraints. The country aims to accelerate solar deployment and improve energy efficiency.\n",
      "\n",
      "- **Saudi Arabia:** Saudi Arabia is increasing its renewable energy capacity and developing CCUS technologies. The Kingdom aims to become a leading hydrogen producer and exporter by 2030 and is implementing energy efficiency programs.\n",
      "\n",
      "**Similarities:** Both countries are investing in renewable energy and technology to support their climate goals.\n",
      "\n",
      "**Differences:** Singapore's renewable energy strategy is primarily centered on solar energy, while Saudi Arabia is diversifying its energy mix and focusing on hydrogen production and CCUS technologies.\n",
      "\n",
      "**4. National Circumstances and Challenges:**\n",
      "\n",
      "- **Singapore:** As a small, densely populated island city-state, Singapore faces challenges in transitioning to alternative energy sources due to limited land and resources.\n",
      "\n",
      "- **Saudi Arabia:** Saudi Arabia's arid environment and reliance on oil as a primary income source present unique challenges in addressing climate change and diversifying its economy.\n",
      "\n",
      "**Conclusion:**\n",
      "\n",
      "Both Singapore and Saudi Arabia are committed to addressing climate change through emissions reduction, adaptation, and renewable energy initiatives. While they share some similarities in their approaches, their strategies differ due to their unique national circumstances and challenges. Singapore focuses on solar energy and urban resilience, whereas Saudi Arabia emphasizes economic diversification, CCUS technologies, and regional cooperation through initiatives like the Saudi Green Initiative.\n",
      "\n",
      "\n",
      "\n",
      "\n",
      "Comparison Two:\n",
      "Comparison 2:\n",
      " **Comparison of Climate Change Strategies: Singapore vs. Saudi Arabia**\n",
      "\n",
      "**Geographical and Environmental Context:**\n",
      "- **Singapore** is a small, low-lying island city-state with a dense urban landscape, making it vulnerable to climate change impacts such as rising sea levels. Its geographical constraints limit the use of alternative energy sources like solar, nuclear, and wind energy.\n",
      "- **Saudi Arabia** is an arid country with low rainfall, high temperatures, and limited water resources. It lacks perennial rivers and relies on surface water runoff, groundwater, desalinated seawater, and wastewater. The country is characterized by deserts and sand bodies, making it vulnerable to climate change impacts.\n",
      "\n",
      "**Economic Context and Climate Strategy:**\n",
      "- **Singapore** contributes only 0.1% of global emissions but has committed to ambitious climate goals, including achieving net zero emissions by 2050. The country focuses on improving energy efficiency, transitioning to cleaner fuels, and implementing a carbon tax. The Singapore Green Plan 2030 outlines a comprehensive strategy for sustainability and climate goals.\n",
      "- **Saudi Arabia** is heavily reliant on oil income and is pursuing economic diversification through the Saudi Vision 2030. The Kingdom aims to reduce GHG emissions by 278 million tons of CO2 eq by 2030, focusing on a Circular Carbon Economy (CCE) approach. The Saudi Green Initiative and Middle East Green Initiative are key components of its climate strategy.\n",
      "\n",
      "**Nationally Determined Contributions (NDCs):**\n",
      "- **Singapore** has enhanced its 2030 NDC to reduce emissions to around 60 MtCO2e, aligning with the Paris Agreement. The country emphasizes international cooperation and technological advancements to meet its climate goals.\n",
      "- **Saudi Arabia** submitted an updated NDC in 2021, aiming for a more than two-fold increase in emission reductions compared to its previous targets. The NDCs are based on a dynamic baseline approach, considering national circumstances and economic diversification.\n",
      "\n",
      "**Mitigation and Adaptation Measures:**\n",
      "- **Singapore** focuses on energy efficiency, a cleaner fuel mix, and a progressive carbon tax to mitigate emissions. Adaptation measures include building climate resilience and safeguarding the environment.\n",
      "- **Saudi Arabia** emphasizes the CCE approach, which includes reducing, reusing, recycling, and removing carbon. The Kingdom is investing in renewable energy, carbon capture, and public transportation to achieve its climate goals.\n",
      "\n",
      "**Institutional Arrangements:**\n",
      "- **Singapore** has a dedicated National Climate Change Secretariat under the Prime Minister’s Office, coordinating climate policies across ministries.\n",
      "- **Saudi Arabia** has established the Designated National Authority (DNA) to coordinate climate efforts, involving various sector ministries and stakeholders.\n",
      "\n",
      "**Conclusion:**\n",
      "Both Singapore and Saudi Arabia are committed to addressing climate change, albeit with different strategies reflecting their unique geographical and economic contexts. Singapore focuses on energy efficiency and carbon taxation, while Saudi Arabia emphasizes economic diversification and a circular carbon economy. Both countries recognize the importance of international cooperation and technological advancements in achieving their climate goals.\n",
      "\n",
      "\n",
      "\n",
      "\n",
      "Please assign a score based on your evaluation:\n",
      "- Enter \"2\" if you prefer Comparison One.\n",
      "- Enter \"0\" if you prefer Comparison Two.\n",
      "- Enter \"1\" if you are unable to choose a clear winner or find them equivalent.\n",
      "\n",
      "Your response should be a single number: 2, 1, or 0.\n",
      "Your response: \n",
      "Prompt token usage: 1463 ~$0.007315\n",
      "Response token usage: 2 ~$2.9999999999999997e-05\n",
      "Generated Score:\n",
      "2\n",
      "Comparison output saved to evaluate/2.jsonl\n"
     ]
    }
   ],
   "source": [
    "evaluate(\n",
    "    \"openai\",\n",
    "    \"gpt-4o\",\n",
    "    config[\"comparison\"][\"output\"],\n",
    "    config[\"baseline\"][\"output\"],\n",
    "    config[\"evaluate\"][\"prompt\"],\n",
    "    config[\"evaluate\"][\"output\"],\n",
    ")"
   ]
  },
  {
   "cell_type": "code",
   "execution_count": null,
   "metadata": {},
   "outputs": [],
   "source": []
  }
 ],
 "metadata": {
  "kernelspec": {
   "display_name": "Python3 (ipykernel)",
   "language": "python",
   "name": "python3"
  },
  "language_info": {
   "codemirror_mode": {
    "name": "ipython",
    "version": 3
   },
   "file_extension": ".py",
   "mimetype": "text/x-python",
   "name": "python",
   "nbconvert_exporter": "python",
   "pygments_lexer": "ipython3",
   "version": "3.10.12"
  }
 },
 "nbformat": 4,
 "nbformat_minor": 4
}
